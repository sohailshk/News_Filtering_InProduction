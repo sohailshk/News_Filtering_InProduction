{
  "nbformat": 4,
  "nbformat_minor": 0,
  "metadata": {
    "colab": {
      "provenance": [],
      "gpuType": "T4"
    },
    "kernelspec": {
      "name": "python3",
      "display_name": "Python 3"
    },
    "language_info": {
      "name": "python"
    },
    "accelerator": "GPU"
  },
  "cells": [
    {
      "cell_type": "markdown",
      "source": [
        "# 📊 Machine Learning Project Lifecycle\n",
        "\n",
        "A complete ML project lifecycle was followed to troubleshoot and deploy an improved model for a news article classification task.\n",
        "\n",
        "---\n",
        "\n",
        "## 🧭 Scoping\n",
        "\n",
        "### 🔍 Business Problem Identification\n",
        "- A news classifier was required for integration into a news aggregation application.\n",
        "- Manual sorting was inefficient; rule-based systems underperformed due to data scale.\n",
        "\n",
        "### 🧪 Existing Solution Review\n",
        "- A lightweight ML prototype using article titles existed.\n",
        "- Performance during internal evaluation was suboptimal.\n",
        "\n",
        "### ✅ Feasibility & Value Assessment\n",
        "- ML was found suitable for text classification tasks.\n",
        "\n",
        "### 🗓️ Milestones & Budget Planning\n",
        "- Success metrics were established.\n",
        "- A 3-week proof-of-concept based on the prototype was scheduled.\n",
        "- Timelines and resource needs for future deployment were estimated.\n",
        "\n",
        "---\n",
        "\n",
        "## 📂 Data\n",
        "\n",
        "- A data-centric approach was applied.\n",
        "- Model code was fixed during initial stages.\n",
        "- Data quality was iteratively improved to enhance model performance.\n",
        "\n",
        "---\n",
        "\n",
        "## 🤖 Modeling\n",
        "\n",
        "- Model performance was evaluated using defined metrics.\n",
        "- Weak points were identified and addressed.\n",
        "- Iterative improvements were made to both data and model.\n",
        "\n",
        "---\n",
        "\n",
        "## 🚀 Deployment\n",
        "\n",
        "- A plan was created for model deployment.\n",
        "- Monitoring and maintenance procedures were defined.\n",
        "- Setup checkpoints were used to resume progress without re-running prior sections:\n",
        "  - Each major stage (Data, Modeling, Deployment) had a `Setup` subsection to load saved results.\n",
        "\n",
        "---\n",
        "\n",
        "## 🧩 Support Features\n",
        "\n",
        "- Inline hints and solutions were available for coding exercises.\n",
        "- Progress continuity was enabled via setup cells in each section.\n",
        "\n",
        "---\n",
        "\n",
        "## 📰 Use Case Summary\n",
        "\n",
        "- A start-up aimed to improve a news classifier ML model.\n",
        "- An existing prototype was assessed, refined, and redeployed.\n",
        "- The full lifecycle was followed: Scoping → Data → Modeling → Deployment.\n"
      ],
      "metadata": {
        "id": "w85cO8EfHzPJ"
      }
    },
    {
      "cell_type": "code",
      "source": [
        "# prompt: moun g drive again\n",
        "\n",
        "from google.colab import drive\n",
        "drive.mount('/content/drive')"
      ],
      "metadata": {
        "id": "IuyepD8bTdKi",
        "outputId": "b7c76118-c907-43e3-ce2b-b7ff48d5ea80",
        "colab": {
          "base_uri": "https://localhost:8080/"
        }
      },
      "execution_count": 1,
      "outputs": [
        {
          "output_type": "stream",
          "name": "stdout",
          "text": [
            "Mounted at /content/drive\n"
          ]
        }
      ]
    },
    {
      "cell_type": "code",
      "execution_count": 2,
      "metadata": {
        "id": "M6KQlpa7Hycb",
        "colab": {
          "base_uri": "https://localhost:8080/"
        },
        "outputId": "84c294b7-cc57-4d26-ba11-fc1cdbfb32ca"
      },
      "outputs": [
        {
          "output_type": "stream",
          "name": "stdout",
          "text": [
            "assets\tE2\t\t\tFinalProject.ipynb  news_articles.db  serving\n",
            "E1\texperiment-tracker.csv\tlab_utils.py\t    __pycache__\n"
          ]
        }
      ],
      "source": [
        "# List the contents of the directory to visually confirm lab_utils.py exists\n",
        "# Make sure this output confirms lab_utils.py is directly in this directory\n",
        "!ls /content/drive/MyDrive/News_Filtering_Production/News_Filtering_Production/\n",
        "\n",
        "import sys\n",
        "import os\n",
        "\n",
        "# Ensure the path is added to sys.path\n",
        "# The path should point to the directory containing lab_utils.py\n",
        "lab_utils_dir = '/content/drive/MyDrive/News_Filtering_Production/News_Filtering_Production/'\n",
        "\n",
        "# Add the directory to sys.path if it's not already there\n",
        "if lab_utils_dir not in sys.path:\n",
        "    sys.path.insert(0, lab_utils_dir) # Use insert(0, ...) to prioritize this path\n",
        "\n",
        "# Now attempt the import. We can also try reloading the module if it was previously attempted and failed.\n",
        "try:\n",
        "    import lab_utils\n",
        "except ModuleNotFoundError:\n",
        "    # If the import still fails after adding the path,\n",
        "    # it might be a caching issue. A more robust way is to ensure\n",
        "    # the path is in sys.path *before* the first import attempt in the notebook session.\n",
        "    # If running this cell after a failed import, try restarting the kernel\n",
        "    # and running this cell first.\n",
        "    print(f\"Failed to import lab_utils from {lab_utils_dir}. Please ensure the path is correct and try restarting the kernel if the file exists.\")\n",
        "    raise # Re-raise the error to make it visible\n",
        "\n",
        "import tensorflow as tf\n",
        "import pandas as pd\n",
        "from sklearn.model_selection import train_test_split"
      ]
    },
    {
      "cell_type": "markdown",
      "source": [
        "## 📂 Data\n",
        "\n",
        "The available data was examined to assess its suitability for the application. Existing prototype files were stored in the `E1` (Experiment 1) folder, structured as follows:\n",
        "\n",
        "### 📁 Folder Structure\n",
        "\n",
        "- `data/`  \n",
        "  - Contains `train_data.csv` and `test_data.csv`\n",
        "\n",
        "- `model/`  \n",
        "  - Holds a TensorFlow `SavedModel` trained on `train_data.csv`\n",
        "\n",
        "- `vocab/`  \n",
        "  - Includes two key text files:\n",
        "    - `labels.txt` – 8 target topics for classification\n",
        "    - `vocabulary.txt` – Top 10,000 most frequent words from training titles\n",
        "\n",
        "### 🧰 Setup\n",
        "\n",
        "Folder paths were saved to variables using the `set_experiment_dirs()` helper function from the `lab_utils.py` file.  \n",
        "This utility file also includes reusable functions used throughout the notebook.  \n",
        "Exploration of these functions is encouraged for a better understanding of their operations.\n"
      ],
      "metadata": {
        "id": "RreoivzJJ_rb"
      }
    },
    {
      "cell_type": "code",
      "source": [
        "# Working folder for the experiment\n",
        "BASE_DIR = '/content/drive/MyDrive/News_Filtering_Production/News_Filtering_Production/E1'\n",
        "\n",
        "# Get the subdirectories that contain the experiment files\n",
        "data_dir, model_dir, vocab_dir = lab_utils.set_experiment_dirs(BASE_DIR)\n",
        "\n",
        "print(\n",
        "    f'base directory: {BASE_DIR}\\n\\n'\n",
        "    f'data: {data_dir}\\n'\n",
        "    f'model: {model_dir}\\n'\n",
        "    f'vocab: {vocab_dir}\\n'\n",
        ")"
      ],
      "metadata": {
        "id": "rCQqlhf-J-FU",
        "colab": {
          "base_uri": "https://localhost:8080/"
        },
        "outputId": "29f7d3c6-4722-4df2-9383-89c8ac70ad1f"
      },
      "execution_count": 3,
      "outputs": [
        {
          "output_type": "stream",
          "name": "stdout",
          "text": [
            "base directory: /content/drive/MyDrive/News_Filtering_Production/News_Filtering_Production/E1\n",
            "\n",
            "data: /content/drive/MyDrive/News_Filtering_Production/News_Filtering_Production/E1/data\n",
            "model: /content/drive/MyDrive/News_Filtering_Production/News_Filtering_Production/E1/model\n",
            "vocab: /content/drive/MyDrive/News_Filtering_Production/News_Filtering_Production/E1/vocab\n",
            "\n"
          ]
        }
      ]
    },
    {
      "cell_type": "markdown",
      "source": [
        "## 📄 Dataset Loading & Preview\n",
        "\n",
        "The datasets were loaded into Pandas DataFrames for inspection and manipulation.\n",
        "\n",
        "### 📊 Columns Overview\n",
        "\n",
        "Each dataset contains 6 columns. However, only the following 2 were used by the prototype model:\n",
        "\n",
        "- `title` – Article title (used as model input)\n",
        "- `topic` – Article category (used as the prediction label, with 8 classes):\n",
        "  - entertainment, health, technology, world, business, sports, nation, science\n",
        "\n",
        "### 🗂️ Other Columns (Used Elsewhere in the App)\n",
        "\n",
        "- `link`\n",
        "- `domain`\n",
        "- `published_date`\n",
        "\n",
        "### 🔍 Preview\n",
        "\n",
        "The first 10 rows of the training dataset were displayed for initial examination.\n"
      ],
      "metadata": {
        "id": "yBSKDmdQPAa7"
      }
    },
    {
      "cell_type": "code",
      "source": [
        "\n",
        "pd.set_option('display.max_colwidth', None)\n",
        "\n",
        "# Load the datasets into dataframes\n",
        "train_df = pd.read_csv(f'{data_dir}/train_data.csv')\n",
        "test_df = pd.read_csv(f'{data_dir}/test_data.csv')\n",
        "\n",
        "# Preview the first 10 rows of the training set\n",
        "train_df[:10]\n"
      ],
      "metadata": {
        "id": "Ct87sjI6Oe1q",
        "colab": {
          "base_uri": "https://localhost:8080/",
          "height": 1000
        },
        "outputId": "37334cc5-cc33-4904-beb4-f80b7365afe6"
      },
      "execution_count": 4,
      "outputs": [
        {
          "output_type": "execute_result",
          "data": {
            "text/plain": [
              "                                                                                                    title  \\\n",
              "0                                          NSW remains on COVID-19 high alert | The Star | Newcastle, NSW   \n",
              "1                                                        Missing people: How does someone just disappear?   \n",
              "2                          An American Pickle review: In a dual role, Seth Rogen’s drama wins over comedy   \n",
              "3               Katie Spotz to Run 130 Miles to Bring Clean Water to Tanzania, Shares Testimony of Change   \n",
              "4                      CDC Director Says This Fall Could Be ‘the Worst’ We’ve Ever Had Thanks to COVID-19   \n",
              "5                                         Free water and electricity may be counterproductive – Economist   \n",
              "6                                                   State places Tazewell County on COVID-19 warning list   \n",
              "7  Over 100 people quarantined in Mississippi school district after several test positive for coronavirus   \n",
              "8                                           How global warming is wiping out Africa's oldest baobab trees   \n",
              "9                                     Delay routine dental checkups, WHO urges, until COVID risk is known   \n",
              "\n",
              "                                                                                                                       link  \\\n",
              "0                                   https://www.newcastlestar.com.au/story/6878465/nsw-remains-on-covid-19-high-alert/?cs=7   \n",
              "1                                                             https://www.bbc.co.uk/news/uk-england-cambridgeshire-53648599   \n",
              "2                      https://www.polygon.com/2020/8/6/21357120/american-pickle-review-movie-seth-rogen-simon-rich-hbo-max   \n",
              "3   http://www.christianitydaily.com/articles/9647/20200807/katie-spotz-run-130-miles-bring-clean-water-tanzania-shares.htm   \n",
              "4                                                                          https://www.self.com/story/worst-fall-ever-covid   \n",
              "5  https://www.ghanaweb.com/GhanaHomePage/NewsArchive/Free-water-and-electricity-may-be-counterproductive-Economist-1031098   \n",
              "6                                        https://week.com/2020/08/07/state-places-tazewell-county-on-covid-19-warning-list/   \n",
              "7  https://www.nbcnews.com/news/us-news/over-100-people-quarantined-mississippi-school-district-after-several-test-n1236012   \n",
              "8                   http://www.capetalk.co.za/articles/307750/how-global-warming-is-wiping-out-africa-s-oldest-baobab-trees   \n",
              "9  https://www.thepeninsulaqatar.com/article/11/08/2020/Delay-routine-dental-checkups,-WHO-urges,-until-COVID-risk-is-known   \n",
              "\n",
              "                  domain       published_date          topic  \n",
              "0   newcastlestar.com.au  2020-08-13 17:32:28         HEALTH  \n",
              "1              bbc.co.uk  2020-08-04 15:56:20         NATION  \n",
              "2            polygon.com  2020-08-06 15:58:22  ENTERTAINMENT  \n",
              "3  christianitydaily.com  2020-08-07 19:45:00         NATION  \n",
              "4               self.com  2020-08-13 19:37:52         HEALTH  \n",
              "5           ghanaweb.com  2020-08-11 13:25:37         NATION  \n",
              "6               week.com  2020-08-07 18:00:24         HEALTH  \n",
              "7            nbcnews.com  2020-08-06 16:35:00         NATION  \n",
              "8         capetalk.co.za  2018-06-14 12:00:53          WORLD  \n",
              "9  thepeninsulaqatar.com  2020-08-11 17:13:00         HEALTH  "
            ],
            "text/html": [
              "\n",
              "  <div id=\"df-4ce8c014-84d5-4e45-8c23-f88fc4d1da68\" class=\"colab-df-container\">\n",
              "    <div>\n",
              "<style scoped>\n",
              "    .dataframe tbody tr th:only-of-type {\n",
              "        vertical-align: middle;\n",
              "    }\n",
              "\n",
              "    .dataframe tbody tr th {\n",
              "        vertical-align: top;\n",
              "    }\n",
              "\n",
              "    .dataframe thead th {\n",
              "        text-align: right;\n",
              "    }\n",
              "</style>\n",
              "<table border=\"1\" class=\"dataframe\">\n",
              "  <thead>\n",
              "    <tr style=\"text-align: right;\">\n",
              "      <th></th>\n",
              "      <th>title</th>\n",
              "      <th>link</th>\n",
              "      <th>domain</th>\n",
              "      <th>published_date</th>\n",
              "      <th>topic</th>\n",
              "    </tr>\n",
              "  </thead>\n",
              "  <tbody>\n",
              "    <tr>\n",
              "      <th>0</th>\n",
              "      <td>NSW remains on COVID-19 high alert | The Star | Newcastle, NSW</td>\n",
              "      <td>https://www.newcastlestar.com.au/story/6878465/nsw-remains-on-covid-19-high-alert/?cs=7</td>\n",
              "      <td>newcastlestar.com.au</td>\n",
              "      <td>2020-08-13 17:32:28</td>\n",
              "      <td>HEALTH</td>\n",
              "    </tr>\n",
              "    <tr>\n",
              "      <th>1</th>\n",
              "      <td>Missing people: How does someone just disappear?</td>\n",
              "      <td>https://www.bbc.co.uk/news/uk-england-cambridgeshire-53648599</td>\n",
              "      <td>bbc.co.uk</td>\n",
              "      <td>2020-08-04 15:56:20</td>\n",
              "      <td>NATION</td>\n",
              "    </tr>\n",
              "    <tr>\n",
              "      <th>2</th>\n",
              "      <td>An American Pickle review: In a dual role, Seth Rogen’s drama wins over comedy</td>\n",
              "      <td>https://www.polygon.com/2020/8/6/21357120/american-pickle-review-movie-seth-rogen-simon-rich-hbo-max</td>\n",
              "      <td>polygon.com</td>\n",
              "      <td>2020-08-06 15:58:22</td>\n",
              "      <td>ENTERTAINMENT</td>\n",
              "    </tr>\n",
              "    <tr>\n",
              "      <th>3</th>\n",
              "      <td>Katie Spotz to Run 130 Miles to Bring Clean Water to Tanzania, Shares Testimony of Change</td>\n",
              "      <td>http://www.christianitydaily.com/articles/9647/20200807/katie-spotz-run-130-miles-bring-clean-water-tanzania-shares.htm</td>\n",
              "      <td>christianitydaily.com</td>\n",
              "      <td>2020-08-07 19:45:00</td>\n",
              "      <td>NATION</td>\n",
              "    </tr>\n",
              "    <tr>\n",
              "      <th>4</th>\n",
              "      <td>CDC Director Says This Fall Could Be ‘the Worst’ We’ve Ever Had Thanks to COVID-19</td>\n",
              "      <td>https://www.self.com/story/worst-fall-ever-covid</td>\n",
              "      <td>self.com</td>\n",
              "      <td>2020-08-13 19:37:52</td>\n",
              "      <td>HEALTH</td>\n",
              "    </tr>\n",
              "    <tr>\n",
              "      <th>5</th>\n",
              "      <td>Free water and electricity may be counterproductive – Economist</td>\n",
              "      <td>https://www.ghanaweb.com/GhanaHomePage/NewsArchive/Free-water-and-electricity-may-be-counterproductive-Economist-1031098</td>\n",
              "      <td>ghanaweb.com</td>\n",
              "      <td>2020-08-11 13:25:37</td>\n",
              "      <td>NATION</td>\n",
              "    </tr>\n",
              "    <tr>\n",
              "      <th>6</th>\n",
              "      <td>State places Tazewell County on COVID-19 warning list</td>\n",
              "      <td>https://week.com/2020/08/07/state-places-tazewell-county-on-covid-19-warning-list/</td>\n",
              "      <td>week.com</td>\n",
              "      <td>2020-08-07 18:00:24</td>\n",
              "      <td>HEALTH</td>\n",
              "    </tr>\n",
              "    <tr>\n",
              "      <th>7</th>\n",
              "      <td>Over 100 people quarantined in Mississippi school district after several test positive for coronavirus</td>\n",
              "      <td>https://www.nbcnews.com/news/us-news/over-100-people-quarantined-mississippi-school-district-after-several-test-n1236012</td>\n",
              "      <td>nbcnews.com</td>\n",
              "      <td>2020-08-06 16:35:00</td>\n",
              "      <td>NATION</td>\n",
              "    </tr>\n",
              "    <tr>\n",
              "      <th>8</th>\n",
              "      <td>How global warming is wiping out Africa's oldest baobab trees</td>\n",
              "      <td>http://www.capetalk.co.za/articles/307750/how-global-warming-is-wiping-out-africa-s-oldest-baobab-trees</td>\n",
              "      <td>capetalk.co.za</td>\n",
              "      <td>2018-06-14 12:00:53</td>\n",
              "      <td>WORLD</td>\n",
              "    </tr>\n",
              "    <tr>\n",
              "      <th>9</th>\n",
              "      <td>Delay routine dental checkups, WHO urges, until COVID risk is known</td>\n",
              "      <td>https://www.thepeninsulaqatar.com/article/11/08/2020/Delay-routine-dental-checkups,-WHO-urges,-until-COVID-risk-is-known</td>\n",
              "      <td>thepeninsulaqatar.com</td>\n",
              "      <td>2020-08-11 17:13:00</td>\n",
              "      <td>HEALTH</td>\n",
              "    </tr>\n",
              "  </tbody>\n",
              "</table>\n",
              "</div>\n",
              "    <div class=\"colab-df-buttons\">\n",
              "\n",
              "  <div class=\"colab-df-container\">\n",
              "    <button class=\"colab-df-convert\" onclick=\"convertToInteractive('df-4ce8c014-84d5-4e45-8c23-f88fc4d1da68')\"\n",
              "            title=\"Convert this dataframe to an interactive table.\"\n",
              "            style=\"display:none;\">\n",
              "\n",
              "  <svg xmlns=\"http://www.w3.org/2000/svg\" height=\"24px\" viewBox=\"0 -960 960 960\">\n",
              "    <path d=\"M120-120v-720h720v720H120Zm60-500h600v-160H180v160Zm220 220h160v-160H400v160Zm0 220h160v-160H400v160ZM180-400h160v-160H180v160Zm440 0h160v-160H620v160ZM180-180h160v-160H180v160Zm440 0h160v-160H620v160Z\"/>\n",
              "  </svg>\n",
              "    </button>\n",
              "\n",
              "  <style>\n",
              "    .colab-df-container {\n",
              "      display:flex;\n",
              "      gap: 12px;\n",
              "    }\n",
              "\n",
              "    .colab-df-convert {\n",
              "      background-color: #E8F0FE;\n",
              "      border: none;\n",
              "      border-radius: 50%;\n",
              "      cursor: pointer;\n",
              "      display: none;\n",
              "      fill: #1967D2;\n",
              "      height: 32px;\n",
              "      padding: 0 0 0 0;\n",
              "      width: 32px;\n",
              "    }\n",
              "\n",
              "    .colab-df-convert:hover {\n",
              "      background-color: #E2EBFA;\n",
              "      box-shadow: 0px 1px 2px rgba(60, 64, 67, 0.3), 0px 1px 3px 1px rgba(60, 64, 67, 0.15);\n",
              "      fill: #174EA6;\n",
              "    }\n",
              "\n",
              "    .colab-df-buttons div {\n",
              "      margin-bottom: 4px;\n",
              "    }\n",
              "\n",
              "    [theme=dark] .colab-df-convert {\n",
              "      background-color: #3B4455;\n",
              "      fill: #D2E3FC;\n",
              "    }\n",
              "\n",
              "    [theme=dark] .colab-df-convert:hover {\n",
              "      background-color: #434B5C;\n",
              "      box-shadow: 0px 1px 3px 1px rgba(0, 0, 0, 0.15);\n",
              "      filter: drop-shadow(0px 1px 2px rgba(0, 0, 0, 0.3));\n",
              "      fill: #FFFFFF;\n",
              "    }\n",
              "  </style>\n",
              "\n",
              "    <script>\n",
              "      const buttonEl =\n",
              "        document.querySelector('#df-4ce8c014-84d5-4e45-8c23-f88fc4d1da68 button.colab-df-convert');\n",
              "      buttonEl.style.display =\n",
              "        google.colab.kernel.accessAllowed ? 'block' : 'none';\n",
              "\n",
              "      async function convertToInteractive(key) {\n",
              "        const element = document.querySelector('#df-4ce8c014-84d5-4e45-8c23-f88fc4d1da68');\n",
              "        const dataTable =\n",
              "          await google.colab.kernel.invokeFunction('convertToInteractive',\n",
              "                                                    [key], {});\n",
              "        if (!dataTable) return;\n",
              "\n",
              "        const docLinkHtml = 'Like what you see? Visit the ' +\n",
              "          '<a target=\"_blank\" href=https://colab.research.google.com/notebooks/data_table.ipynb>data table notebook</a>'\n",
              "          + ' to learn more about interactive tables.';\n",
              "        element.innerHTML = '';\n",
              "        dataTable['output_type'] = 'display_data';\n",
              "        await google.colab.output.renderOutput(dataTable, element);\n",
              "        const docLink = document.createElement('div');\n",
              "        docLink.innerHTML = docLinkHtml;\n",
              "        element.appendChild(docLink);\n",
              "      }\n",
              "    </script>\n",
              "  </div>\n",
              "\n",
              "\n",
              "    <div id=\"df-cd3e4254-819f-4045-acc6-d67b5ca0f032\">\n",
              "      <button class=\"colab-df-quickchart\" onclick=\"quickchart('df-cd3e4254-819f-4045-acc6-d67b5ca0f032')\"\n",
              "                title=\"Suggest charts\"\n",
              "                style=\"display:none;\">\n",
              "\n",
              "<svg xmlns=\"http://www.w3.org/2000/svg\" height=\"24px\"viewBox=\"0 0 24 24\"\n",
              "     width=\"24px\">\n",
              "    <g>\n",
              "        <path d=\"M19 3H5c-1.1 0-2 .9-2 2v14c0 1.1.9 2 2 2h14c1.1 0 2-.9 2-2V5c0-1.1-.9-2-2-2zM9 17H7v-7h2v7zm4 0h-2V7h2v10zm4 0h-2v-4h2v4z\"/>\n",
              "    </g>\n",
              "</svg>\n",
              "      </button>\n",
              "\n",
              "<style>\n",
              "  .colab-df-quickchart {\n",
              "      --bg-color: #E8F0FE;\n",
              "      --fill-color: #1967D2;\n",
              "      --hover-bg-color: #E2EBFA;\n",
              "      --hover-fill-color: #174EA6;\n",
              "      --disabled-fill-color: #AAA;\n",
              "      --disabled-bg-color: #DDD;\n",
              "  }\n",
              "\n",
              "  [theme=dark] .colab-df-quickchart {\n",
              "      --bg-color: #3B4455;\n",
              "      --fill-color: #D2E3FC;\n",
              "      --hover-bg-color: #434B5C;\n",
              "      --hover-fill-color: #FFFFFF;\n",
              "      --disabled-bg-color: #3B4455;\n",
              "      --disabled-fill-color: #666;\n",
              "  }\n",
              "\n",
              "  .colab-df-quickchart {\n",
              "    background-color: var(--bg-color);\n",
              "    border: none;\n",
              "    border-radius: 50%;\n",
              "    cursor: pointer;\n",
              "    display: none;\n",
              "    fill: var(--fill-color);\n",
              "    height: 32px;\n",
              "    padding: 0;\n",
              "    width: 32px;\n",
              "  }\n",
              "\n",
              "  .colab-df-quickchart:hover {\n",
              "    background-color: var(--hover-bg-color);\n",
              "    box-shadow: 0 1px 2px rgba(60, 64, 67, 0.3), 0 1px 3px 1px rgba(60, 64, 67, 0.15);\n",
              "    fill: var(--button-hover-fill-color);\n",
              "  }\n",
              "\n",
              "  .colab-df-quickchart-complete:disabled,\n",
              "  .colab-df-quickchart-complete:disabled:hover {\n",
              "    background-color: var(--disabled-bg-color);\n",
              "    fill: var(--disabled-fill-color);\n",
              "    box-shadow: none;\n",
              "  }\n",
              "\n",
              "  .colab-df-spinner {\n",
              "    border: 2px solid var(--fill-color);\n",
              "    border-color: transparent;\n",
              "    border-bottom-color: var(--fill-color);\n",
              "    animation:\n",
              "      spin 1s steps(1) infinite;\n",
              "  }\n",
              "\n",
              "  @keyframes spin {\n",
              "    0% {\n",
              "      border-color: transparent;\n",
              "      border-bottom-color: var(--fill-color);\n",
              "      border-left-color: var(--fill-color);\n",
              "    }\n",
              "    20% {\n",
              "      border-color: transparent;\n",
              "      border-left-color: var(--fill-color);\n",
              "      border-top-color: var(--fill-color);\n",
              "    }\n",
              "    30% {\n",
              "      border-color: transparent;\n",
              "      border-left-color: var(--fill-color);\n",
              "      border-top-color: var(--fill-color);\n",
              "      border-right-color: var(--fill-color);\n",
              "    }\n",
              "    40% {\n",
              "      border-color: transparent;\n",
              "      border-right-color: var(--fill-color);\n",
              "      border-top-color: var(--fill-color);\n",
              "    }\n",
              "    60% {\n",
              "      border-color: transparent;\n",
              "      border-right-color: var(--fill-color);\n",
              "    }\n",
              "    80% {\n",
              "      border-color: transparent;\n",
              "      border-right-color: var(--fill-color);\n",
              "      border-bottom-color: var(--fill-color);\n",
              "    }\n",
              "    90% {\n",
              "      border-color: transparent;\n",
              "      border-bottom-color: var(--fill-color);\n",
              "    }\n",
              "  }\n",
              "</style>\n",
              "\n",
              "      <script>\n",
              "        async function quickchart(key) {\n",
              "          const quickchartButtonEl =\n",
              "            document.querySelector('#' + key + ' button');\n",
              "          quickchartButtonEl.disabled = true;  // To prevent multiple clicks.\n",
              "          quickchartButtonEl.classList.add('colab-df-spinner');\n",
              "          try {\n",
              "            const charts = await google.colab.kernel.invokeFunction(\n",
              "                'suggestCharts', [key], {});\n",
              "          } catch (error) {\n",
              "            console.error('Error during call to suggestCharts:', error);\n",
              "          }\n",
              "          quickchartButtonEl.classList.remove('colab-df-spinner');\n",
              "          quickchartButtonEl.classList.add('colab-df-quickchart-complete');\n",
              "        }\n",
              "        (() => {\n",
              "          let quickchartButtonEl =\n",
              "            document.querySelector('#df-cd3e4254-819f-4045-acc6-d67b5ca0f032 button');\n",
              "          quickchartButtonEl.style.display =\n",
              "            google.colab.kernel.accessAllowed ? 'block' : 'none';\n",
              "        })();\n",
              "      </script>\n",
              "    </div>\n",
              "\n",
              "    </div>\n",
              "  </div>\n"
            ],
            "application/vnd.google.colaboratory.intrinsic+json": {
              "type": "dataframe",
              "summary": "{\n  \"name\": \"train_df[:10]\",\n  \"rows\": 10,\n  \"fields\": [\n    {\n      \"column\": \"title\",\n      \"properties\": {\n        \"dtype\": \"string\",\n        \"num_unique_values\": 10,\n        \"samples\": [\n          \"How global warming is wiping out Africa's oldest baobab trees\",\n          \"Missing people: How does someone just disappear?\",\n          \"Free water and electricity may be counterproductive \\u2013 Economist\"\n        ],\n        \"semantic_type\": \"\",\n        \"description\": \"\"\n      }\n    },\n    {\n      \"column\": \"link\",\n      \"properties\": {\n        \"dtype\": \"string\",\n        \"num_unique_values\": 10,\n        \"samples\": [\n          \"http://www.capetalk.co.za/articles/307750/how-global-warming-is-wiping-out-africa-s-oldest-baobab-trees\",\n          \"https://www.bbc.co.uk/news/uk-england-cambridgeshire-53648599\",\n          \"https://www.ghanaweb.com/GhanaHomePage/NewsArchive/Free-water-and-electricity-may-be-counterproductive-Economist-1031098\"\n        ],\n        \"semantic_type\": \"\",\n        \"description\": \"\"\n      }\n    },\n    {\n      \"column\": \"domain\",\n      \"properties\": {\n        \"dtype\": \"string\",\n        \"num_unique_values\": 10,\n        \"samples\": [\n          \"capetalk.co.za\",\n          \"bbc.co.uk\",\n          \"ghanaweb.com\"\n        ],\n        \"semantic_type\": \"\",\n        \"description\": \"\"\n      }\n    },\n    {\n      \"column\": \"published_date\",\n      \"properties\": {\n        \"dtype\": \"object\",\n        \"num_unique_values\": 10,\n        \"samples\": [\n          \"2018-06-14 12:00:53\",\n          \"2020-08-04 15:56:20\",\n          \"2020-08-11 13:25:37\"\n        ],\n        \"semantic_type\": \"\",\n        \"description\": \"\"\n      }\n    },\n    {\n      \"column\": \"topic\",\n      \"properties\": {\n        \"dtype\": \"category\",\n        \"num_unique_values\": 4,\n        \"samples\": [\n          \"NATION\",\n          \"WORLD\",\n          \"HEALTH\"\n        ],\n        \"semantic_type\": \"\",\n        \"description\": \"\"\n      }\n    }\n  ]\n}"
            }
          },
          "metadata": {},
          "execution_count": 4
        }
      ]
    },
    {
      "cell_type": "markdown",
      "source": [
        "## 🧾 Define the Data\n",
        "\n",
        "Effective data preparation was recognized as essential for strong model performance.\n",
        "\n",
        "### ⚠️ Label Quality Considerations\n",
        "\n",
        "If human labelers received unclear guidelines, inconsistencies in labeling may have occurred. Such ambiguity can reduce the model's ability to learn the true input-output relationships.\n",
        "\n",
        "### 🔍 Key Points to Examine\n",
        "\n",
        "- **Input Feature (`title`)**\n",
        "  - Are titles clear, representative, and informative enough for classification?\n",
        "\n",
        "- **Label (`topic`)**\n",
        "  - Do any labels seem inconsistent or unclear?\n",
        "  - Are there overlapping classes or subjective interpretations?\n",
        "\n",
        "### ❓ Potential Questions\n",
        "\n",
        "- Are all 8 topic classes clearly distinct?\n",
        "- Could the same title reasonably fit into multiple categories?\n",
        "- Are there patterns in mislabeled or vague entries?\n",
        "\n",
        "### 🔬 Action\n",
        "\n",
        "The dataset was explored for anomalies, ambiguity, or inconsistencies.  \n",
        "No corrections were made at this stage—issues were only identified for later review.\n"
      ],
      "metadata": {
        "id": "8zs1JCvnfhMC"
      }
    },
    {
      "cell_type": "code",
      "source": [
        "#printed 10 titles and manually labelled them to find a pattern\n",
        "\n",
        "# Indices of the dataframe to use\n",
        "start_index = 30\n",
        "end_index = 40\n",
        "\n",
        "# Sample titles to label\n",
        "train_df[['title']][start_index:end_index]\n",
        "\n",
        "# # When you're done, uncomment the next line to see the 'true' labels\n",
        "train_df[['title', 'topic']][start_index:end_index]"
      ],
      "metadata": {
        "id": "0OMxyt3-ZlSX",
        "colab": {
          "base_uri": "https://localhost:8080/",
          "height": 398
        },
        "outputId": "a8340d8d-77ec-446b-ef2d-e2416a76ad14"
      },
      "execution_count": 5,
      "outputs": [
        {
          "output_type": "execute_result",
          "data": {
            "text/plain": [
              "                                                                                                      title  \\\n",
              "30  28% Fall in Mumbai's Home Isolation Cases, 62% Drop in Institutional Quarantine as Covid Curve Plateaus   \n",
              "31                                                                Sniffer dogs begin trials to detect Covid   \n",
              "32                                   Seth Rogen says Marvel blockbusters make it difficult for comedy films   \n",
              "33                                    Farewell to Pete Way, the debauched bassist with a frontman's swagger   \n",
              "34                                                                 Poo detectives on the COVID-19 frontline   \n",
              "35            Fortnite maker challenges Apple and Google's app store rules through direct-payment discounts   \n",
              "36                                 Why iPhone 12 Will Be Another 'Defining Chapter' In Apple's Growth Story   \n",
              "37                                                                 Forex auction bolsters productive sector   \n",
              "38                                  Intel Tiger Lake could outrun AMD Ryzen 4000 in single-core performance   \n",
              "39                                       Rappi delivery workers in Colombia's Bogota strike over conditions   \n",
              "\n",
              "            topic  \n",
              "30         NATION  \n",
              "31         HEALTH  \n",
              "32  ENTERTAINMENT  \n",
              "33  ENTERTAINMENT  \n",
              "34         HEALTH  \n",
              "35     TECHNOLOGY  \n",
              "36       BUSINESS  \n",
              "37         NATION  \n",
              "38     TECHNOLOGY  \n",
              "39     TECHNOLOGY  "
            ],
            "text/html": [
              "\n",
              "  <div id=\"df-b12da8ad-d5f9-486f-8f16-4885213f3fe8\" class=\"colab-df-container\">\n",
              "    <div>\n",
              "<style scoped>\n",
              "    .dataframe tbody tr th:only-of-type {\n",
              "        vertical-align: middle;\n",
              "    }\n",
              "\n",
              "    .dataframe tbody tr th {\n",
              "        vertical-align: top;\n",
              "    }\n",
              "\n",
              "    .dataframe thead th {\n",
              "        text-align: right;\n",
              "    }\n",
              "</style>\n",
              "<table border=\"1\" class=\"dataframe\">\n",
              "  <thead>\n",
              "    <tr style=\"text-align: right;\">\n",
              "      <th></th>\n",
              "      <th>title</th>\n",
              "      <th>topic</th>\n",
              "    </tr>\n",
              "  </thead>\n",
              "  <tbody>\n",
              "    <tr>\n",
              "      <th>30</th>\n",
              "      <td>28% Fall in Mumbai's Home Isolation Cases, 62% Drop in Institutional Quarantine as Covid Curve Plateaus</td>\n",
              "      <td>NATION</td>\n",
              "    </tr>\n",
              "    <tr>\n",
              "      <th>31</th>\n",
              "      <td>Sniffer dogs begin trials to detect Covid</td>\n",
              "      <td>HEALTH</td>\n",
              "    </tr>\n",
              "    <tr>\n",
              "      <th>32</th>\n",
              "      <td>Seth Rogen says Marvel blockbusters make it difficult for comedy films</td>\n",
              "      <td>ENTERTAINMENT</td>\n",
              "    </tr>\n",
              "    <tr>\n",
              "      <th>33</th>\n",
              "      <td>Farewell to Pete Way, the debauched bassist with a frontman's swagger</td>\n",
              "      <td>ENTERTAINMENT</td>\n",
              "    </tr>\n",
              "    <tr>\n",
              "      <th>34</th>\n",
              "      <td>Poo detectives on the COVID-19 frontline</td>\n",
              "      <td>HEALTH</td>\n",
              "    </tr>\n",
              "    <tr>\n",
              "      <th>35</th>\n",
              "      <td>Fortnite maker challenges Apple and Google's app store rules through direct-payment discounts</td>\n",
              "      <td>TECHNOLOGY</td>\n",
              "    </tr>\n",
              "    <tr>\n",
              "      <th>36</th>\n",
              "      <td>Why iPhone 12 Will Be Another 'Defining Chapter' In Apple's Growth Story</td>\n",
              "      <td>BUSINESS</td>\n",
              "    </tr>\n",
              "    <tr>\n",
              "      <th>37</th>\n",
              "      <td>Forex auction bolsters productive sector</td>\n",
              "      <td>NATION</td>\n",
              "    </tr>\n",
              "    <tr>\n",
              "      <th>38</th>\n",
              "      <td>Intel Tiger Lake could outrun AMD Ryzen 4000 in single-core performance</td>\n",
              "      <td>TECHNOLOGY</td>\n",
              "    </tr>\n",
              "    <tr>\n",
              "      <th>39</th>\n",
              "      <td>Rappi delivery workers in Colombia's Bogota strike over conditions</td>\n",
              "      <td>TECHNOLOGY</td>\n",
              "    </tr>\n",
              "  </tbody>\n",
              "</table>\n",
              "</div>\n",
              "    <div class=\"colab-df-buttons\">\n",
              "\n",
              "  <div class=\"colab-df-container\">\n",
              "    <button class=\"colab-df-convert\" onclick=\"convertToInteractive('df-b12da8ad-d5f9-486f-8f16-4885213f3fe8')\"\n",
              "            title=\"Convert this dataframe to an interactive table.\"\n",
              "            style=\"display:none;\">\n",
              "\n",
              "  <svg xmlns=\"http://www.w3.org/2000/svg\" height=\"24px\" viewBox=\"0 -960 960 960\">\n",
              "    <path d=\"M120-120v-720h720v720H120Zm60-500h600v-160H180v160Zm220 220h160v-160H400v160Zm0 220h160v-160H400v160ZM180-400h160v-160H180v160Zm440 0h160v-160H620v160ZM180-180h160v-160H180v160Zm440 0h160v-160H620v160Z\"/>\n",
              "  </svg>\n",
              "    </button>\n",
              "\n",
              "  <style>\n",
              "    .colab-df-container {\n",
              "      display:flex;\n",
              "      gap: 12px;\n",
              "    }\n",
              "\n",
              "    .colab-df-convert {\n",
              "      background-color: #E8F0FE;\n",
              "      border: none;\n",
              "      border-radius: 50%;\n",
              "      cursor: pointer;\n",
              "      display: none;\n",
              "      fill: #1967D2;\n",
              "      height: 32px;\n",
              "      padding: 0 0 0 0;\n",
              "      width: 32px;\n",
              "    }\n",
              "\n",
              "    .colab-df-convert:hover {\n",
              "      background-color: #E2EBFA;\n",
              "      box-shadow: 0px 1px 2px rgba(60, 64, 67, 0.3), 0px 1px 3px 1px rgba(60, 64, 67, 0.15);\n",
              "      fill: #174EA6;\n",
              "    }\n",
              "\n",
              "    .colab-df-buttons div {\n",
              "      margin-bottom: 4px;\n",
              "    }\n",
              "\n",
              "    [theme=dark] .colab-df-convert {\n",
              "      background-color: #3B4455;\n",
              "      fill: #D2E3FC;\n",
              "    }\n",
              "\n",
              "    [theme=dark] .colab-df-convert:hover {\n",
              "      background-color: #434B5C;\n",
              "      box-shadow: 0px 1px 3px 1px rgba(0, 0, 0, 0.15);\n",
              "      filter: drop-shadow(0px 1px 2px rgba(0, 0, 0, 0.3));\n",
              "      fill: #FFFFFF;\n",
              "    }\n",
              "  </style>\n",
              "\n",
              "    <script>\n",
              "      const buttonEl =\n",
              "        document.querySelector('#df-b12da8ad-d5f9-486f-8f16-4885213f3fe8 button.colab-df-convert');\n",
              "      buttonEl.style.display =\n",
              "        google.colab.kernel.accessAllowed ? 'block' : 'none';\n",
              "\n",
              "      async function convertToInteractive(key) {\n",
              "        const element = document.querySelector('#df-b12da8ad-d5f9-486f-8f16-4885213f3fe8');\n",
              "        const dataTable =\n",
              "          await google.colab.kernel.invokeFunction('convertToInteractive',\n",
              "                                                    [key], {});\n",
              "        if (!dataTable) return;\n",
              "\n",
              "        const docLinkHtml = 'Like what you see? Visit the ' +\n",
              "          '<a target=\"_blank\" href=https://colab.research.google.com/notebooks/data_table.ipynb>data table notebook</a>'\n",
              "          + ' to learn more about interactive tables.';\n",
              "        element.innerHTML = '';\n",
              "        dataTable['output_type'] = 'display_data';\n",
              "        await google.colab.output.renderOutput(dataTable, element);\n",
              "        const docLink = document.createElement('div');\n",
              "        docLink.innerHTML = docLinkHtml;\n",
              "        element.appendChild(docLink);\n",
              "      }\n",
              "    </script>\n",
              "  </div>\n",
              "\n",
              "\n",
              "    <div id=\"df-a98b5754-41b6-481c-8bd5-745c370e753f\">\n",
              "      <button class=\"colab-df-quickchart\" onclick=\"quickchart('df-a98b5754-41b6-481c-8bd5-745c370e753f')\"\n",
              "                title=\"Suggest charts\"\n",
              "                style=\"display:none;\">\n",
              "\n",
              "<svg xmlns=\"http://www.w3.org/2000/svg\" height=\"24px\"viewBox=\"0 0 24 24\"\n",
              "     width=\"24px\">\n",
              "    <g>\n",
              "        <path d=\"M19 3H5c-1.1 0-2 .9-2 2v14c0 1.1.9 2 2 2h14c1.1 0 2-.9 2-2V5c0-1.1-.9-2-2-2zM9 17H7v-7h2v7zm4 0h-2V7h2v10zm4 0h-2v-4h2v4z\"/>\n",
              "    </g>\n",
              "</svg>\n",
              "      </button>\n",
              "\n",
              "<style>\n",
              "  .colab-df-quickchart {\n",
              "      --bg-color: #E8F0FE;\n",
              "      --fill-color: #1967D2;\n",
              "      --hover-bg-color: #E2EBFA;\n",
              "      --hover-fill-color: #174EA6;\n",
              "      --disabled-fill-color: #AAA;\n",
              "      --disabled-bg-color: #DDD;\n",
              "  }\n",
              "\n",
              "  [theme=dark] .colab-df-quickchart {\n",
              "      --bg-color: #3B4455;\n",
              "      --fill-color: #D2E3FC;\n",
              "      --hover-bg-color: #434B5C;\n",
              "      --hover-fill-color: #FFFFFF;\n",
              "      --disabled-bg-color: #3B4455;\n",
              "      --disabled-fill-color: #666;\n",
              "  }\n",
              "\n",
              "  .colab-df-quickchart {\n",
              "    background-color: var(--bg-color);\n",
              "    border: none;\n",
              "    border-radius: 50%;\n",
              "    cursor: pointer;\n",
              "    display: none;\n",
              "    fill: var(--fill-color);\n",
              "    height: 32px;\n",
              "    padding: 0;\n",
              "    width: 32px;\n",
              "  }\n",
              "\n",
              "  .colab-df-quickchart:hover {\n",
              "    background-color: var(--hover-bg-color);\n",
              "    box-shadow: 0 1px 2px rgba(60, 64, 67, 0.3), 0 1px 3px 1px rgba(60, 64, 67, 0.15);\n",
              "    fill: var(--button-hover-fill-color);\n",
              "  }\n",
              "\n",
              "  .colab-df-quickchart-complete:disabled,\n",
              "  .colab-df-quickchart-complete:disabled:hover {\n",
              "    background-color: var(--disabled-bg-color);\n",
              "    fill: var(--disabled-fill-color);\n",
              "    box-shadow: none;\n",
              "  }\n",
              "\n",
              "  .colab-df-spinner {\n",
              "    border: 2px solid var(--fill-color);\n",
              "    border-color: transparent;\n",
              "    border-bottom-color: var(--fill-color);\n",
              "    animation:\n",
              "      spin 1s steps(1) infinite;\n",
              "  }\n",
              "\n",
              "  @keyframes spin {\n",
              "    0% {\n",
              "      border-color: transparent;\n",
              "      border-bottom-color: var(--fill-color);\n",
              "      border-left-color: var(--fill-color);\n",
              "    }\n",
              "    20% {\n",
              "      border-color: transparent;\n",
              "      border-left-color: var(--fill-color);\n",
              "      border-top-color: var(--fill-color);\n",
              "    }\n",
              "    30% {\n",
              "      border-color: transparent;\n",
              "      border-left-color: var(--fill-color);\n",
              "      border-top-color: var(--fill-color);\n",
              "      border-right-color: var(--fill-color);\n",
              "    }\n",
              "    40% {\n",
              "      border-color: transparent;\n",
              "      border-right-color: var(--fill-color);\n",
              "      border-top-color: var(--fill-color);\n",
              "    }\n",
              "    60% {\n",
              "      border-color: transparent;\n",
              "      border-right-color: var(--fill-color);\n",
              "    }\n",
              "    80% {\n",
              "      border-color: transparent;\n",
              "      border-right-color: var(--fill-color);\n",
              "      border-bottom-color: var(--fill-color);\n",
              "    }\n",
              "    90% {\n",
              "      border-color: transparent;\n",
              "      border-bottom-color: var(--fill-color);\n",
              "    }\n",
              "  }\n",
              "</style>\n",
              "\n",
              "      <script>\n",
              "        async function quickchart(key) {\n",
              "          const quickchartButtonEl =\n",
              "            document.querySelector('#' + key + ' button');\n",
              "          quickchartButtonEl.disabled = true;  // To prevent multiple clicks.\n",
              "          quickchartButtonEl.classList.add('colab-df-spinner');\n",
              "          try {\n",
              "            const charts = await google.colab.kernel.invokeFunction(\n",
              "                'suggestCharts', [key], {});\n",
              "          } catch (error) {\n",
              "            console.error('Error during call to suggestCharts:', error);\n",
              "          }\n",
              "          quickchartButtonEl.classList.remove('colab-df-spinner');\n",
              "          quickchartButtonEl.classList.add('colab-df-quickchart-complete');\n",
              "        }\n",
              "        (() => {\n",
              "          let quickchartButtonEl =\n",
              "            document.querySelector('#df-a98b5754-41b6-481c-8bd5-745c370e753f button');\n",
              "          quickchartButtonEl.style.display =\n",
              "            google.colab.kernel.accessAllowed ? 'block' : 'none';\n",
              "        })();\n",
              "      </script>\n",
              "    </div>\n",
              "\n",
              "    </div>\n",
              "  </div>\n"
            ],
            "application/vnd.google.colaboratory.intrinsic+json": {
              "type": "dataframe",
              "summary": "{\n  \"name\": \"train_df[['title', 'topic']][start_index:end_index]\",\n  \"rows\": 10,\n  \"fields\": [\n    {\n      \"column\": \"title\",\n      \"properties\": {\n        \"dtype\": \"string\",\n        \"num_unique_values\": 10,\n        \"samples\": [\n          \"Intel Tiger Lake could outrun AMD Ryzen 4000 in single-core performance\",\n          \"Sniffer dogs begin trials to detect Covid\",\n          \"Fortnite maker challenges Apple and Google's app store rules through direct-payment discounts\"\n        ],\n        \"semantic_type\": \"\",\n        \"description\": \"\"\n      }\n    },\n    {\n      \"column\": \"topic\",\n      \"properties\": {\n        \"dtype\": \"string\",\n        \"num_unique_values\": 5,\n        \"samples\": [\n          \"HEALTH\",\n          \"BUSINESS\",\n          \"ENTERTAINMENT\"\n        ],\n        \"semantic_type\": \"\",\n        \"description\": \"\"\n      }\n    }\n  ]\n}"
            }
          },
          "metadata": {},
          "execution_count": 5
        }
      ]
    },
    {
      "cell_type": "markdown",
      "source": [
        "## ❓ Example Questions to Consider (Post-Inspection)\n",
        "\n",
        "After inspecting the data, the following questions may be raised to assess data quality and improve model performance:\n",
        "\n",
        "### 🧠 Labeling Process\n",
        "- How were the labels assigned?\n",
        "- How many annotators were involved, and how were their labels aggregated?\n",
        "- Was inter-rater reliability measured?\n",
        "\n",
        "### 🔍 Topic Definitions\n",
        "- How are the topics defined?\n",
        "  - For instance, what distinguishes *Science* from *Technology*?\n",
        "\n",
        "### 🔄 Feature Exploration\n",
        "- Can any unused columns (`link`, `domain`, `published_date`) serve as predictive features?\n",
        "\n",
        "### 📈 Data Sufficiency\n",
        "- Is the title alone a strong enough signal for classification?\n",
        "- If re-collection were possible, what additional features could improve consistency?\n",
        "\n",
        "### 🧩 Category Optimization\n",
        "- Would merging or redefining topics improve accuracy?\n",
        "\n",
        "> These questions were noted for further exploration. Not all require immediate action.\n"
      ],
      "metadata": {
        "id": "kiOw-__Of_sF"
      }
    },
    {
      "cell_type": "code",
      "source": [
        "from tensorflow import keras\n",
        "from tensorflow.keras import layers\n",
        "\n",
        "# Define the model architecture\n",
        "model = keras.Sequential([\n",
        "    layers.Embedding(input_dim=10000, output_dim=24, input_length=20),\n",
        "    layers.Dense(24, activation='relu'),\n",
        "    layers.Flatten(),\n",
        "    layers.Dense(8, activation='softmax')\n",
        "])\n",
        "\n",
        "# Compile the model\n",
        "model.compile(optimizer='adam',\n",
        "              loss='sparse_categorical_crossentropy',\n",
        "              metrics=['sparse_categorical_accuracy'])\n",
        "\n",
        "# Print the model summary to verify it matches the desired structure\n",
        "model.summary()"
      ],
      "metadata": {
        "colab": {
          "base_uri": "https://localhost:8080/",
          "height": 327
        },
        "id": "FvRPOEF2Wthq",
        "outputId": "a4bbce60-7950-46be-9ed2-741f12f1abdc"
      },
      "execution_count": 17,
      "outputs": [
        {
          "output_type": "stream",
          "name": "stderr",
          "text": [
            "/usr/local/lib/python3.11/dist-packages/keras/src/layers/core/embedding.py:90: UserWarning: Argument `input_length` is deprecated. Just remove it.\n",
            "  warnings.warn(\n"
          ]
        },
        {
          "output_type": "display_data",
          "data": {
            "text/plain": [
              "\u001b[1mModel: \"sequential\"\u001b[0m\n"
            ],
            "text/html": [
              "<pre style=\"white-space:pre;overflow-x:auto;line-height:normal;font-family:Menlo,'DejaVu Sans Mono',consolas,'Courier New',monospace\"><span style=\"font-weight: bold\">Model: \"sequential\"</span>\n",
              "</pre>\n"
            ]
          },
          "metadata": {}
        },
        {
          "output_type": "display_data",
          "data": {
            "text/plain": [
              "┏━━━━━━━━━━━━━━━━━━━━━━━━━━━━━━━━━┳━━━━━━━━━━━━━━━━━━━━━━━━┳━━━━━━━━━━━━━━━┓\n",
              "┃\u001b[1m \u001b[0m\u001b[1mLayer (type)                   \u001b[0m\u001b[1m \u001b[0m┃\u001b[1m \u001b[0m\u001b[1mOutput Shape          \u001b[0m\u001b[1m \u001b[0m┃\u001b[1m \u001b[0m\u001b[1m      Param #\u001b[0m\u001b[1m \u001b[0m┃\n",
              "┡━━━━━━━━━━━━━━━━━━━━━━━━━━━━━━━━━╇━━━━━━━━━━━━━━━━━━━━━━━━╇━━━━━━━━━━━━━━━┩\n",
              "│ embedding (\u001b[38;5;33mEmbedding\u001b[0m)           │ ?                      │   \u001b[38;5;34m0\u001b[0m (unbuilt) │\n",
              "├─────────────────────────────────┼────────────────────────┼───────────────┤\n",
              "│ dense (\u001b[38;5;33mDense\u001b[0m)                   │ ?                      │   \u001b[38;5;34m0\u001b[0m (unbuilt) │\n",
              "├─────────────────────────────────┼────────────────────────┼───────────────┤\n",
              "│ flatten (\u001b[38;5;33mFlatten\u001b[0m)               │ ?                      │   \u001b[38;5;34m0\u001b[0m (unbuilt) │\n",
              "├─────────────────────────────────┼────────────────────────┼───────────────┤\n",
              "│ dense_1 (\u001b[38;5;33mDense\u001b[0m)                 │ ?                      │   \u001b[38;5;34m0\u001b[0m (unbuilt) │\n",
              "└─────────────────────────────────┴────────────────────────┴───────────────┘\n"
            ],
            "text/html": [
              "<pre style=\"white-space:pre;overflow-x:auto;line-height:normal;font-family:Menlo,'DejaVu Sans Mono',consolas,'Courier New',monospace\">┏━━━━━━━━━━━━━━━━━━━━━━━━━━━━━━━━━┳━━━━━━━━━━━━━━━━━━━━━━━━┳━━━━━━━━━━━━━━━┓\n",
              "┃<span style=\"font-weight: bold\"> Layer (type)                    </span>┃<span style=\"font-weight: bold\"> Output Shape           </span>┃<span style=\"font-weight: bold\">       Param # </span>┃\n",
              "┡━━━━━━━━━━━━━━━━━━━━━━━━━━━━━━━━━╇━━━━━━━━━━━━━━━━━━━━━━━━╇━━━━━━━━━━━━━━━┩\n",
              "│ embedding (<span style=\"color: #0087ff; text-decoration-color: #0087ff\">Embedding</span>)           │ ?                      │   <span style=\"color: #00af00; text-decoration-color: #00af00\">0</span> (unbuilt) │\n",
              "├─────────────────────────────────┼────────────────────────┼───────────────┤\n",
              "│ dense (<span style=\"color: #0087ff; text-decoration-color: #0087ff\">Dense</span>)                   │ ?                      │   <span style=\"color: #00af00; text-decoration-color: #00af00\">0</span> (unbuilt) │\n",
              "├─────────────────────────────────┼────────────────────────┼───────────────┤\n",
              "│ flatten (<span style=\"color: #0087ff; text-decoration-color: #0087ff\">Flatten</span>)               │ ?                      │   <span style=\"color: #00af00; text-decoration-color: #00af00\">0</span> (unbuilt) │\n",
              "├─────────────────────────────────┼────────────────────────┼───────────────┤\n",
              "│ dense_1 (<span style=\"color: #0087ff; text-decoration-color: #0087ff\">Dense</span>)                 │ ?                      │   <span style=\"color: #00af00; text-decoration-color: #00af00\">0</span> (unbuilt) │\n",
              "└─────────────────────────────────┴────────────────────────┴───────────────┘\n",
              "</pre>\n"
            ]
          },
          "metadata": {}
        },
        {
          "output_type": "display_data",
          "data": {
            "text/plain": [
              "\u001b[1m Total params: \u001b[0m\u001b[38;5;34m0\u001b[0m (0.00 B)\n"
            ],
            "text/html": [
              "<pre style=\"white-space:pre;overflow-x:auto;line-height:normal;font-family:Menlo,'DejaVu Sans Mono',consolas,'Courier New',monospace\"><span style=\"font-weight: bold\"> Total params: </span><span style=\"color: #00af00; text-decoration-color: #00af00\">0</span> (0.00 B)\n",
              "</pre>\n"
            ]
          },
          "metadata": {}
        },
        {
          "output_type": "display_data",
          "data": {
            "text/plain": [
              "\u001b[1m Trainable params: \u001b[0m\u001b[38;5;34m0\u001b[0m (0.00 B)\n"
            ],
            "text/html": [
              "<pre style=\"white-space:pre;overflow-x:auto;line-height:normal;font-family:Menlo,'DejaVu Sans Mono',consolas,'Courier New',monospace\"><span style=\"font-weight: bold\"> Trainable params: </span><span style=\"color: #00af00; text-decoration-color: #00af00\">0</span> (0.00 B)\n",
              "</pre>\n"
            ]
          },
          "metadata": {}
        },
        {
          "output_type": "display_data",
          "data": {
            "text/plain": [
              "\u001b[1m Non-trainable params: \u001b[0m\u001b[38;5;34m0\u001b[0m (0.00 B)\n"
            ],
            "text/html": [
              "<pre style=\"white-space:pre;overflow-x:auto;line-height:normal;font-family:Menlo,'DejaVu Sans Mono',consolas,'Courier New',monospace\"><span style=\"font-weight: bold\"> Non-trainable params: </span><span style=\"color: #00af00; text-decoration-color: #00af00\">0</span> (0.00 B)\n",
              "</pre>\n"
            ]
          },
          "metadata": {}
        }
      ]
    },
    {
      "cell_type": "code",
      "source": [
        "# Create a lookup list for the labels\n",
        "topic_lookup = tf.keras.layers.StringLookup(vocabulary=f'{vocab_dir}/labels.txt', num_oov_indices=0)\n",
        "\n",
        "# Check the list of labels\n",
        "topic_lookup.get_vocabulary()"
      ],
      "metadata": {
        "id": "dnBrMnCDZlJu",
        "colab": {
          "base_uri": "https://localhost:8080/"
        },
        "outputId": "dff883e7-bedf-4e12-e5ca-757a21d22fc5"
      },
      "execution_count": 8,
      "outputs": [
        {
          "output_type": "execute_result",
          "data": {
            "text/plain": [
              "[np.str_('ENTERTAINMENT'),\n",
              " np.str_('HEALTH'),\n",
              " np.str_('TECHNOLOGY'),\n",
              " np.str_('WORLD'),\n",
              " np.str_('BUSINESS'),\n",
              " np.str_('SPORTS'),\n",
              " np.str_('NATION'),\n",
              " np.str_('SCIENCE')]"
            ]
          },
          "metadata": {},
          "execution_count": 8
        }
      ]
    },
    {
      "cell_type": "markdown",
      "source": [
        "## 🔢 Preprocessing for Evaluation\n",
        "\n",
        "Before evaluation, the input and output data needed to be transformed into numeric formats compatible with the model.\n",
        "\n",
        "### 🏷️ Label Encoding\n",
        "\n",
        "- The `topic` column in `test_df` contained string labels.\n",
        "- A `StringLookup()` layer was used to map each topic string to a unique integer index.\n",
        "\n",
        "### 🧾 Title Tokenization\n",
        "\n",
        "- The `title` column also used string data.\n",
        "- A `TextVectorization()` layer was employed to tokenize and convert titles into integer sequences.\n",
        "\n",
        "### 🧠 Vocabulary Settings\n",
        "\n",
        "- Vocabulary was loaded from `vocab_dir/vocabulary.txt`, which included the top 10,000 most frequent words from the training set.\n",
        "- Sequences were truncated to the first 20 words, as titles rarely exceeded this length.\n",
        "\n",
        "### ⚙️ Configuration Summary\n",
        "\n",
        "| Component              | Setting / Source                              |\n",
        "|------------------------|-----------------------------------------------|\n",
        "| Label Encoding         | `StringLookup()` layer                        |\n",
        "| Title Vectorization    | `TextVectorization()` layer                   |\n",
        "| Vocabulary File        | `vocab_dir/vocabulary.txt`                    |\n",
        "| Sequence Truncation    | Max 20 words per title                        |\n",
        "\n",
        "> These preprocessing steps prepared the test data for model evaluation.\n"
      ],
      "metadata": {
        "id": "gOrk_1Ruhs1b"
      }
    },
    {
      "cell_type": "code",
      "source": [
        "# Title length and vocabulary size used by the team for the prototype\n",
        "MAX_LENGTH = 20\n",
        "VOCAB_SIZE = 10000\n",
        "\n",
        "# Instantiate a layer for text preprocessing\n",
        "title_preprocessor = tf.keras.layers.TextVectorization(max_tokens=VOCAB_SIZE, output_sequence_length=MAX_LENGTH)\n",
        "\n",
        "# Load the vocabulary file\n",
        "title_preprocessor.load_assets(vocab_dir)\n",
        "\n",
        "# Check the vocabulary size\n",
        "print(f'vocabulary size: {title_preprocessor.vocabulary_size()}')\n",
        "\n",
        "# Get a sample title\n",
        "sample_title = train_df['title'][10]\n",
        "\n",
        "# Sample title in string format\n",
        "print(f\"sample text: {sample_title}\")\n",
        "\n",
        "# Sample title represented as an integer sequence\n",
        "print(f\"sample text (preprocessed): {title_preprocessor(sample_title)}\")"
      ],
      "metadata": {
        "id": "Y1nKkS59ZlFo",
        "colab": {
          "base_uri": "https://localhost:8080/"
        },
        "outputId": "b90a4b8f-37aa-4413-c7b4-c141cfcc3e64"
      },
      "execution_count": 9,
      "outputs": [
        {
          "output_type": "stream",
          "name": "stdout",
          "text": [
            "vocabulary size: 10000\n",
            "sample text: Dengue fever cases in Laos rise to 4256\n",
            "sample text (preprocessed): [4040 1979   30    2 9339  282    3    1    0    0    0    0    0    0\n",
            "    0    0    0    0    0    0]\n"
          ]
        }
      ]
    },
    {
      "cell_type": "markdown",
      "source": [
        "## 📊 Evaluating the Prototype Model\n",
        "\n",
        "Once preprocessing layers were defined, the test set was converted into a format compatible with the model.\n",
        "\n",
        "### 🔄 Dataset Conversion\n",
        "\n",
        "- The `df_to_tfdata()` utility was used to convert `test_df` into a `tf.data.Dataset`.\n",
        "- This utility applied the `title_preprocessor` and `topic_lookup` layers to:\n",
        "  - Transform article titles into integer sequences.\n",
        "  - Convert string labels into integer indices.\n",
        "\n",
        "### 📈 Running Evaluation\n",
        "\n",
        "- The model's `evaluate()` method was then called on the processed dataset.\n",
        "- Performance metrics such as **accuracy** were computed and recorded.\n",
        "\n",
        "> These metrics served as the official baseline for future improvements.\n"
      ],
      "metadata": {
        "id": "l8eu6xGLr8CZ"
      }
    },
    {
      "cell_type": "markdown",
      "source": [
        "## 📉 Baseline Accuracy and Experiment Tracking\n",
        "\n",
        "### ✅ Evaluation Summary\n",
        "\n",
        "- The prototype model achieved **78% accuracy** on the test dataset.\n",
        "- This was measured using `SparseCategoricalAccuracy()`, which compares integer-based predictions and labels.\n",
        "\n",
        "### 🗂️ Experiment Tracking\n",
        "\n",
        "- An experiment tracking system was encouraged.\n",
        "- The `experiment-tracker.csv` file was recommended for recording:\n",
        "  - Accuracy metrics.\n",
        "  - Experiment configurations.\n",
        "  - Model directory references.\n",
        "\n",
        "> Regular experiment logging was emphasized to improve reproducibility and project management.\n",
        "\n",
        "---\n",
        "\n",
        "## 🧹 Label and Organize the Data\n",
        "\n",
        "### 📁 Prototype File Review\n",
        "\n",
        "- A quick evaluation of the prototype files was performed.\n",
        "- Current model performance was measured.\n",
        "- Next, the focus was shifted to organizing the dataset according to data-centric AI principles.\n",
        "\n",
        "---\n",
        "\n",
        "## 🔄 Data Pipeline Documentation\n",
        "\n",
        "### 🔧 Purpose\n",
        "\n",
        "- Documenting each stage in the data pipeline was suggested.\n",
        "- Ensures reproducibility and consistency during deployment.\n",
        "\n",
        "### 📝 Pipeline Tasks\n",
        "\n",
        "- Record each transformation from raw input to model predictions.\n",
        "- Track resource dependencies:\n",
        "  - `vocabulary.txt` (top 10,000 words).\n",
        "  - `labels.txt` (8 topic categories).\n",
        "- A pipeline diagram\n",
        " <img src='/content/drive/MyDrive/News_Filtering_Production/News_Filtering_Production/assets/pipeline_diagram.png'>\n",
        "  was referenced for visual structure.\n",
        "\n",
        "---\n",
        "\n",
        "## ⚖️ Balanced Dataset Splits\n",
        "\n",
        "### 📊 Goal\n",
        "\n",
        "- Ensuring a **balanced distribution** of labels across:\n",
        "  - Train set\n",
        "  - Development (dev) set\n",
        "  - Test set\n",
        "\n",
        "### 🧪 Method\n",
        "\n",
        "- Category distribution was checked using `value_counts()` on the train and test sets.\n",
        "\n",
        "> Balanced splits are crucial for performance consistency, especially on smaller datasets.\n"
      ],
      "metadata": {
        "id": "p9QWDCHJKadK"
      }
    },
    {
      "cell_type": "code",
      "source": [
        "# Print the percentage of each class in the train set\n",
        "train_df.topic.value_counts(normalize=True).sort_index().mul(100).round(1).astype(str) + '%'"
      ],
      "metadata": {
        "colab": {
          "base_uri": "https://localhost:8080/",
          "height": 366
        },
        "id": "j1P_GhpbiJ3A",
        "outputId": "d9ec1fc1-9551-483b-a96c-b58b095c105c"
      },
      "execution_count": 10,
      "outputs": [
        {
          "output_type": "execute_result",
          "data": {
            "text/plain": [
              "topic\n",
              "BUSINESS         13.2%\n",
              "ENTERTAINMENT    14.1%\n",
              "HEALTH           15.1%\n",
              "NATION           13.2%\n",
              "SCIENCE           0.7%\n",
              "SPORTS           13.6%\n",
              "TECHNOLOGY       15.3%\n",
              "WORLD            14.8%\n",
              "Name: proportion, dtype: object"
            ],
            "text/html": [
              "<div>\n",
              "<style scoped>\n",
              "    .dataframe tbody tr th:only-of-type {\n",
              "        vertical-align: middle;\n",
              "    }\n",
              "\n",
              "    .dataframe tbody tr th {\n",
              "        vertical-align: top;\n",
              "    }\n",
              "\n",
              "    .dataframe thead th {\n",
              "        text-align: right;\n",
              "    }\n",
              "</style>\n",
              "<table border=\"1\" class=\"dataframe\">\n",
              "  <thead>\n",
              "    <tr style=\"text-align: right;\">\n",
              "      <th></th>\n",
              "      <th>proportion</th>\n",
              "    </tr>\n",
              "    <tr>\n",
              "      <th>topic</th>\n",
              "      <th></th>\n",
              "    </tr>\n",
              "  </thead>\n",
              "  <tbody>\n",
              "    <tr>\n",
              "      <th>BUSINESS</th>\n",
              "      <td>13.2%</td>\n",
              "    </tr>\n",
              "    <tr>\n",
              "      <th>ENTERTAINMENT</th>\n",
              "      <td>14.1%</td>\n",
              "    </tr>\n",
              "    <tr>\n",
              "      <th>HEALTH</th>\n",
              "      <td>15.1%</td>\n",
              "    </tr>\n",
              "    <tr>\n",
              "      <th>NATION</th>\n",
              "      <td>13.2%</td>\n",
              "    </tr>\n",
              "    <tr>\n",
              "      <th>SCIENCE</th>\n",
              "      <td>0.7%</td>\n",
              "    </tr>\n",
              "    <tr>\n",
              "      <th>SPORTS</th>\n",
              "      <td>13.6%</td>\n",
              "    </tr>\n",
              "    <tr>\n",
              "      <th>TECHNOLOGY</th>\n",
              "      <td>15.3%</td>\n",
              "    </tr>\n",
              "    <tr>\n",
              "      <th>WORLD</th>\n",
              "      <td>14.8%</td>\n",
              "    </tr>\n",
              "  </tbody>\n",
              "</table>\n",
              "</div><br><label><b>dtype:</b> object</label>"
            ]
          },
          "metadata": {},
          "execution_count": 10
        }
      ]
    },
    {
      "cell_type": "code",
      "source": [
        "# Print the percentage of each class in the test set\n",
        "test_df.topic.value_counts(normalize=True).sort_index().mul(100).round(1).astype(str) + '%'"
      ],
      "metadata": {
        "id": "VJWYJMV_ZlBf",
        "colab": {
          "base_uri": "https://localhost:8080/",
          "height": 366
        },
        "outputId": "536b6a3d-d3c2-4847-fd2a-2cc4e1e4af2e"
      },
      "execution_count": 11,
      "outputs": [
        {
          "output_type": "execute_result",
          "data": {
            "text/plain": [
              "topic\n",
              "BUSINESS         15.9%\n",
              "ENTERTAINMENT    12.7%\n",
              "HEALTH            9.3%\n",
              "NATION           15.9%\n",
              "SCIENCE          13.2%\n",
              "SPORTS           14.3%\n",
              "TECHNOLOGY        8.6%\n",
              "WORLD            10.1%\n",
              "Name: proportion, dtype: object"
            ],
            "text/html": [
              "<div>\n",
              "<style scoped>\n",
              "    .dataframe tbody tr th:only-of-type {\n",
              "        vertical-align: middle;\n",
              "    }\n",
              "\n",
              "    .dataframe tbody tr th {\n",
              "        vertical-align: top;\n",
              "    }\n",
              "\n",
              "    .dataframe thead th {\n",
              "        text-align: right;\n",
              "    }\n",
              "</style>\n",
              "<table border=\"1\" class=\"dataframe\">\n",
              "  <thead>\n",
              "    <tr style=\"text-align: right;\">\n",
              "      <th></th>\n",
              "      <th>proportion</th>\n",
              "    </tr>\n",
              "    <tr>\n",
              "      <th>topic</th>\n",
              "      <th></th>\n",
              "    </tr>\n",
              "  </thead>\n",
              "  <tbody>\n",
              "    <tr>\n",
              "      <th>BUSINESS</th>\n",
              "      <td>15.9%</td>\n",
              "    </tr>\n",
              "    <tr>\n",
              "      <th>ENTERTAINMENT</th>\n",
              "      <td>12.7%</td>\n",
              "    </tr>\n",
              "    <tr>\n",
              "      <th>HEALTH</th>\n",
              "      <td>9.3%</td>\n",
              "    </tr>\n",
              "    <tr>\n",
              "      <th>NATION</th>\n",
              "      <td>15.9%</td>\n",
              "    </tr>\n",
              "    <tr>\n",
              "      <th>SCIENCE</th>\n",
              "      <td>13.2%</td>\n",
              "    </tr>\n",
              "    <tr>\n",
              "      <th>SPORTS</th>\n",
              "      <td>14.3%</td>\n",
              "    </tr>\n",
              "    <tr>\n",
              "      <th>TECHNOLOGY</th>\n",
              "      <td>8.6%</td>\n",
              "    </tr>\n",
              "    <tr>\n",
              "      <th>WORLD</th>\n",
              "      <td>10.1%</td>\n",
              "    </tr>\n",
              "  </tbody>\n",
              "</table>\n",
              "</div><br><label><b>dtype:</b> object</label>"
            ]
          },
          "metadata": {},
          "execution_count": 11
        }
      ]
    },
    {
      "cell_type": "markdown",
      "source": [
        "## 📊 Addressing Class Imbalance in Dataset Splits\n",
        "\n",
        "### 🔍 Observation\n",
        "\n",
        "- The distribution of topics in the train and test datasets is **uneven**.\n",
        "- The **SCIENCE** category is particularly **overrepresented** in the test set.\n",
        "- This imbalance may lead to:\n",
        "  - Weaker learning for underrepresented classes (like SCIENCE in training).\n",
        "  - Biased model performance.\n",
        "\n",
        "---\n",
        "\n",
        "## 🧪 Goal: Balanced Train/Dev/Test Splits\n",
        "\n",
        "### 🎯 Target Split\n",
        "\n",
        "- Combine `train_df` and `test_df` into one unified dataset.\n",
        "- Split into:\n",
        "  - **60%** for `train_df`\n",
        "  - **20%** for `dev_df`\n",
        "  - **20%** for `test_df`\n",
        "\n",
        "> ✅ You will now have a **dev set** for tracking validation accuracy during training.\n",
        "\n",
        "---\n",
        "\n",
        "\n",
        "- The `train_test_split()` function from `sklearn.model_selection` supports stratified splitting.\n",
        "- Use the `stratify=` argument to ensure equal representation of topics in each set.\n",
        "\n",
        "---\n",
        "\n",
        "> 🚫 *Do not perform any data cleaning or transformations yet.*  \n",
        "You will focus on splitting first, then process each dataset appropriately later.\n"
      ],
      "metadata": {
        "id": "nsrAWP_-MpgT"
      }
    },
    {
      "cell_type": "code",
      "source": [
        "# Load the train and test sets\n",
        "train_df = pd.read_csv(f'{data_dir}/train_data.csv')\n",
        "test_df = pd.read_csv(f'{data_dir}/test_data.csv')\n",
        "\n",
        "# Combine the two datasets. Set ignore_index to False.\n",
        "combined_df = pd.concat([train_df,test_df], ignore_index=False)\n",
        "# Split the combined dataset to 60% train, 20% dev, and 20% test set. Produce a balanced split along the `topic` column.\n",
        "train_df, test_df = train_test_split(combined_df, test_size=0.2, stratify=combined_df['topic'])\n",
        "train_df, dev_df = train_test_split(train_df, test_size=0.25, stratify=train_df['topic'])\n"
      ],
      "metadata": {
        "id": "vWHGM7THMUev"
      },
      "execution_count": 12,
      "outputs": []
    },
    {
      "cell_type": "code",
      "source": [
        "# Print the percentage of each class in the train set\n",
        "train_df.topic.value_counts(normalize=True).sort_index().mul(100).round(1).astype(str) + '%'\n",
        "\n",
        "# Print the percentage of each class in the test set\n",
        "test_df.topic.value_counts(normalize=True).sort_index().mul(100).round(1).astype(str) + '%'"
      ],
      "metadata": {
        "colab": {
          "base_uri": "https://localhost:8080/",
          "height": 366
        },
        "id": "5NY6FUPHNQZC",
        "outputId": "2c6b5c6b-eeaa-41fa-cde4-476309d639a8"
      },
      "execution_count": 13,
      "outputs": [
        {
          "output_type": "execute_result",
          "data": {
            "text/plain": [
              "topic\n",
              "BUSINESS         13.8%\n",
              "ENTERTAINMENT    13.8%\n",
              "HEALTH           13.8%\n",
              "NATION           13.8%\n",
              "SCIENCE           3.5%\n",
              "SPORTS           13.8%\n",
              "TECHNOLOGY       13.8%\n",
              "WORLD            13.8%\n",
              "Name: proportion, dtype: object"
            ],
            "text/html": [
              "<div>\n",
              "<style scoped>\n",
              "    .dataframe tbody tr th:only-of-type {\n",
              "        vertical-align: middle;\n",
              "    }\n",
              "\n",
              "    .dataframe tbody tr th {\n",
              "        vertical-align: top;\n",
              "    }\n",
              "\n",
              "    .dataframe thead th {\n",
              "        text-align: right;\n",
              "    }\n",
              "</style>\n",
              "<table border=\"1\" class=\"dataframe\">\n",
              "  <thead>\n",
              "    <tr style=\"text-align: right;\">\n",
              "      <th></th>\n",
              "      <th>proportion</th>\n",
              "    </tr>\n",
              "    <tr>\n",
              "      <th>topic</th>\n",
              "      <th></th>\n",
              "    </tr>\n",
              "  </thead>\n",
              "  <tbody>\n",
              "    <tr>\n",
              "      <th>BUSINESS</th>\n",
              "      <td>13.8%</td>\n",
              "    </tr>\n",
              "    <tr>\n",
              "      <th>ENTERTAINMENT</th>\n",
              "      <td>13.8%</td>\n",
              "    </tr>\n",
              "    <tr>\n",
              "      <th>HEALTH</th>\n",
              "      <td>13.8%</td>\n",
              "    </tr>\n",
              "    <tr>\n",
              "      <th>NATION</th>\n",
              "      <td>13.8%</td>\n",
              "    </tr>\n",
              "    <tr>\n",
              "      <th>SCIENCE</th>\n",
              "      <td>3.5%</td>\n",
              "    </tr>\n",
              "    <tr>\n",
              "      <th>SPORTS</th>\n",
              "      <td>13.8%</td>\n",
              "    </tr>\n",
              "    <tr>\n",
              "      <th>TECHNOLOGY</th>\n",
              "      <td>13.8%</td>\n",
              "    </tr>\n",
              "    <tr>\n",
              "      <th>WORLD</th>\n",
              "      <td>13.8%</td>\n",
              "    </tr>\n",
              "  </tbody>\n",
              "</table>\n",
              "</div><br><label><b>dtype:</b> object</label>"
            ]
          },
          "metadata": {},
          "execution_count": 13
        }
      ]
    },
    {
      "cell_type": "code",
      "source": [
        "# Print the percentage of each class in the dev set\n",
        "dev_df.topic.value_counts(normalize=True).sort_index().mul(100).round(1).astype(str) + '%'\n"
      ],
      "metadata": {
        "id": "YPMheF1gNsHE",
        "colab": {
          "base_uri": "https://localhost:8080/",
          "height": 366
        },
        "outputId": "0a09eb99-ab9a-4ab8-ccdb-c8be6565fbbf"
      },
      "execution_count": 14,
      "outputs": [
        {
          "output_type": "execute_result",
          "data": {
            "text/plain": [
              "topic\n",
              "BUSINESS         13.8%\n",
              "ENTERTAINMENT    13.8%\n",
              "HEALTH           13.8%\n",
              "NATION           13.8%\n",
              "SCIENCE           3.5%\n",
              "SPORTS           13.8%\n",
              "TECHNOLOGY       13.8%\n",
              "WORLD            13.8%\n",
              "Name: proportion, dtype: object"
            ],
            "text/html": [
              "<div>\n",
              "<style scoped>\n",
              "    .dataframe tbody tr th:only-of-type {\n",
              "        vertical-align: middle;\n",
              "    }\n",
              "\n",
              "    .dataframe tbody tr th {\n",
              "        vertical-align: top;\n",
              "    }\n",
              "\n",
              "    .dataframe thead th {\n",
              "        text-align: right;\n",
              "    }\n",
              "</style>\n",
              "<table border=\"1\" class=\"dataframe\">\n",
              "  <thead>\n",
              "    <tr style=\"text-align: right;\">\n",
              "      <th></th>\n",
              "      <th>proportion</th>\n",
              "    </tr>\n",
              "    <tr>\n",
              "      <th>topic</th>\n",
              "      <th></th>\n",
              "    </tr>\n",
              "  </thead>\n",
              "  <tbody>\n",
              "    <tr>\n",
              "      <th>BUSINESS</th>\n",
              "      <td>13.8%</td>\n",
              "    </tr>\n",
              "    <tr>\n",
              "      <th>ENTERTAINMENT</th>\n",
              "      <td>13.8%</td>\n",
              "    </tr>\n",
              "    <tr>\n",
              "      <th>HEALTH</th>\n",
              "      <td>13.8%</td>\n",
              "    </tr>\n",
              "    <tr>\n",
              "      <th>NATION</th>\n",
              "      <td>13.8%</td>\n",
              "    </tr>\n",
              "    <tr>\n",
              "      <th>SCIENCE</th>\n",
              "      <td>3.5%</td>\n",
              "    </tr>\n",
              "    <tr>\n",
              "      <th>SPORTS</th>\n",
              "      <td>13.8%</td>\n",
              "    </tr>\n",
              "    <tr>\n",
              "      <th>TECHNOLOGY</th>\n",
              "      <td>13.8%</td>\n",
              "    </tr>\n",
              "    <tr>\n",
              "      <th>WORLD</th>\n",
              "      <td>13.8%</td>\n",
              "    </tr>\n",
              "  </tbody>\n",
              "</table>\n",
              "</div><br><label><b>dtype:</b> object</label>"
            ]
          },
          "metadata": {},
          "execution_count": 14
        }
      ]
    },
    {
      "cell_type": "markdown",
      "source": [
        "## ⚠️ Note on Class Imbalance\n",
        "\n",
        "- The **SCIENCE** topic has **fewer examples** than other categories in the dataset.\n",
        "- This type of imbalance is common in real-world scenarios.\n",
        "  - 📍 Example: In medical imaging, there are usually more **negative (healthy)** samples than **positive (diseased)** ones.\n",
        "\n",
        "---\n",
        "\n",
        "### 🧪 What Can Be Done?\n",
        "\n",
        "- **Option 1:** Find or collect more data for the underrepresented class (SCIENCE).\n",
        "- **Option 2:** Use **data augmentation** to synthetically generate samples.\n",
        "- **Option 3:** Track **per-class metrics** during evaluation to ensure fairness across all labels.\n",
        "\n",
        "> ⏳ For now, we'll **skip data augmentation** and continue with our current splits to iterate quickly.\n",
        "\n",
        "---\n",
        "\n",
        "## 💾 Save the Current State of the Data\n",
        "\n",
        "To keep your workflow reproducible and track progress:\n",
        "\n",
        "- Create a new directory: `E2/` (Experiment 2)\n",
        "- Save the new `train_df`, `dev_df`, and `test_df` splits into this folder.\n",
        "- This allows you to:\n",
        "  - Track which datasets were used in which experiments\n",
        "  - Reuse or reproduce results in future iterations\n"
      ],
      "metadata": {
        "id": "i6kw5xaKN7Dh"
      }
    },
    {
      "cell_type": "code",
      "source": [
        "# Set the base directory for the second experiment\n",
        "BASE_DIR = '/content/drive/MyDrive/News_Filtering_Production/News_Filtering_Production/E2'\n",
        "\n",
        "# Set the subdirectories that will contain the experiment files\n",
        "data_dir, model_dir, vocab_dir = lab_utils.set_experiment_dirs(BASE_DIR)\n",
        "\n",
        "# Save the datasets\n",
        "lab_utils.save_data(train_df, data_dir, 'train_data.csv')\n",
        "lab_utils.save_data(dev_df, data_dir, 'dev_data.csv')\n",
        "lab_utils.save_data(test_df, data_dir, 'test_data.csv')\n",
        "\n",
        "# Save the labels\n",
        "lab_utils.save_labels(topic_lookup, vocab_dir)"
      ],
      "metadata": {
        "id": "y7H06TEqNsBP"
      },
      "execution_count": 15,
      "outputs": []
    },
    {
      "cell_type": "markdown",
      "source": [
        "# 🧠 Modeling\n",
        "\n",
        "In the **Modeling** stage, you'll:\n",
        "\n",
        "- ✅ Select a model to learn patterns from your data.\n",
        "- 📊 Evaluate its performance.\n",
        "- 🧪 Perform **error analysis** to identify areas of improvement.\n",
        "\n",
        "This is the **third step** in the ML development lifecycle:\n",
        "\n",
        "📍 *You are here:* `Data → Baseline → Modeling → Evaluation → Production`\n",
        "\n",
        "![ML Lifecycle - Modeling](ml_lifecycle_modeling.png)\n",
        "\n",
        "---\n",
        "\n",
        "## ⚙️ Setup\n",
        "\n",
        "To begin modeling, make sure you've:\n",
        "\n",
        "- 📂 Created a new `E2/` folder for Experiment 2.\n",
        "- 💾 Saved the updated, balanced splits: `train_df`, `dev_df`, and `test_df`.\n",
        "- 🔁 Re-initialize or reload your preprocessing layers (`TextVectorization` and `StringLookup`) if needed for the new dataset.\n",
        "- 🧱 Optionally define or reuse a base model architecture (e.g., a simple neural network using `tf.keras.Sequential`).\n",
        "\n",
        "You're now ready to train and evaluate a new model using the improved data.\n"
      ],
      "metadata": {
        "id": "QDGU6wnWOsY7"
      }
    },
    {
      "cell_type": "code",
      "source": [
        "# Convert the string datasets to Tensorflow datasets\n",
        "# Ensure lab_utils, train_df, dev_df, topic_lookup, and title_preprocessor are defined before this\n",
        "import lab_utils # Ensure lab_utils is imported\n",
        "train_ds = lab_utils.df_to_tfdata(train_df, topic_lookup, title_preprocessor, shuffle=True)\n",
        "dev_ds = lab_utils.df_to_tfdata(dev_df, topic_lookup, title_preprocessor)\n",
        "test_ds = lab_utils.df_to_tfdata(test_df, topic_lookup, title_preprocessor)\n",
        "\n",
        "NUM_EPOCHS = 2 # Or any number of epochs you want to train for\n",
        "model.fit(train_ds, epochs=NUM_EPOCHS, validation_data=dev_ds, verbose=1)"
      ],
      "metadata": {
        "colab": {
          "base_uri": "https://localhost:8080/"
        },
        "id": "JeFWWJoCXgzG",
        "outputId": "19a6220e-2bdc-42ad-8968-73693ad2e09d"
      },
      "execution_count": 21,
      "outputs": [
        {
          "output_type": "stream",
          "name": "stdout",
          "text": [
            "Epoch 1/2\n",
            "\u001b[1m2040/2040\u001b[0m \u001b[32m━━━━━━━━━━━━━━━━━━━━\u001b[0m\u001b[37m\u001b[0m \u001b[1m11s\u001b[0m 4ms/step - loss: 1.2358 - sparse_categorical_accuracy: 0.5361 - val_loss: 0.5475 - val_sparse_categorical_accuracy: 0.8097\n",
            "Epoch 2/2\n",
            "\u001b[1m2040/2040\u001b[0m \u001b[32m━━━━━━━━━━━━━━━━━━━━\u001b[0m\u001b[37m\u001b[0m \u001b[1m7s\u001b[0m 3ms/step - loss: 0.4702 - sparse_categorical_accuracy: 0.8367 - val_loss: 0.5171 - val_sparse_categorical_accuracy: 0.8218\n"
          ]
        },
        {
          "output_type": "execute_result",
          "data": {
            "text/plain": [
              "<keras.src.callbacks.history.History at 0x7fcea44d4110>"
            ]
          },
          "metadata": {},
          "execution_count": 21
        }
      ]
    },
    {
      "cell_type": "code",
      "source": [
        "results = model.evaluate(test_ds, verbose=1)\n",
        "print(f\"Test Loss: {results[0]:.4f}\")\n",
        "print(f\"Test Sparse Categorical Accuracy: {results[1]*100:.2f}%\")"
      ],
      "metadata": {
        "colab": {
          "base_uri": "https://localhost:8080/"
        },
        "id": "wVXmuqn-X5u_",
        "outputId": "c0f34d4f-6678-48ec-f4db-1b1c77e36420"
      },
      "execution_count": 28,
      "outputs": [
        {
          "output_type": "stream",
          "name": "stdout",
          "text": [
            "\u001b[1m680/680\u001b[0m \u001b[32m━━━━━━━━━━━━━━━━━━━━\u001b[0m\u001b[37m\u001b[0m \u001b[1m1s\u001b[0m 2ms/step - loss: 0.5235 - sparse_categorical_accuracy: 0.8239\n",
            "Test Loss: 0.5266\n",
            "Test Sparse Categorical Accuracy: 82.25%\n"
          ]
        }
      ]
    },
    {
      "cell_type": "code",
      "source": [
        "# Make sure the model_dir variable is set to the correct path for E1\n",
        "BASE_DIR = '/content/drive/MyDrive/News_Filtering_Production/News_Filtering_Production/E1'\n",
        "data_dir, model_dir, vocab_dir = lab_utils.set_experiment_dirs(BASE_DIR)\n",
        "\n",
        "# Save the model to the specified directory\n",
        "model.save(model_dir + '/my_model.keras') # Added"
      ],
      "metadata": {
        "id": "lgVISSq9Z3Rw"
      },
      "execution_count": 31,
      "outputs": []
    },
    {
      "cell_type": "code",
      "source": [
        "import lab_utils\n",
        "import tensorflow as tf\n",
        "import pandas as pd\n",
        "from sklearn.model_selection import train_test_split\n",
        "\n",
        "# Working folder for the experiment\n",
        "BASE_DIR = '/content/drive/MyDrive/News_Filtering_Production/News_Filtering_Production/E1'\n",
        "\n",
        "# Get the subdirectories that contain the experiment files\n",
        "_, model_dir, _ = lab_utils.set_experiment_dirs(BASE_DIR)\n",
        "\n",
        "# Load the model\n",
        "model = tf.keras.models.load_model(model_dir + '/my_model.keras') # Load the .keras file\n",
        "\n",
        "# Working folder for the experiment\n",
        "BASE_DIR = '/content/drive/MyDrive/News_Filtering_Production/News_Filtering_Production/E2'\n",
        "\n",
        "# Title length and vocabulary size used by the team for the prototype\n",
        "MAX_LENGTH = 20\n",
        "VOCAB_SIZE = 10000\n",
        "\n",
        "# Get the subdirectories that contain the experiment files\n",
        "data_dir, model_dir, vocab_dir = lab_utils.set_experiment_dirs(BASE_DIR)\n",
        "\n",
        "# Load the train and test sets\n",
        "train_df = pd.read_csv(f'{data_dir}/train_data.csv')\n",
        "dev_df = pd.read_csv(f'{data_dir}/dev_data.csv')\n",
        "test_df = pd.read_csv(f'{data_dir}/test_data.csv')\n",
        "\n",
        "# Instantiate a layer for text preprocessing\n",
        "title_preprocessor = tf.keras.layers.TextVectorization(max_tokens=VOCAB_SIZE, output_sequence_length=MAX_LENGTH)\n",
        "\n",
        "# Create a lookup list for the labels\n",
        "topic_lookup = tf.keras.layers.StringLookup(vocabulary=f'{vocab_dir}/labels.txt', num_oov_indices=0)"
      ],
      "metadata": {
        "id": "90koU9cfOVE6"
      },
      "execution_count": 33,
      "outputs": []
    },
    {
      "cell_type": "markdown",
      "source": [
        "## 🏗️ Select and Train the Model\n",
        "\n",
        "Now that you’ve improved the dataset, let’s analyze how the **prototype model** performs with the **new balanced splits**.\n",
        "\n",
        "You're still practicing **data-centric AI**, so before changing any model architecture, your first step is to **retrain the same model** using the updated data.\n",
        "\n",
        "### ⚠️ Why retrain?\n",
        "\n",
        "The previous model was trained on an **imbalanced dataset**. That means:\n",
        "- The `TextVectorization` layer used a vocabulary that reflected biased topic distributions.\n",
        "- The label encoding (`StringLookup`) was based on old frequencies.\n",
        "\n",
        "To get reliable results, you need to **reinitialize your preprocessing layers** using the new `train_df`.\n",
        "\n",
        "---\n",
        "\n",
        "## 🔄 Update the Vocabulary\n",
        "\n",
        "Use the new `train_df[\"title\"]` column to adapt a fresh `TextVectorization` layer:\n",
        "\n",
        "```python\n",
        "# Rebuild title preprocessor with updated vocabulary from balanced train set\n",
        "title_preprocessor = TextVectorization(\n",
        "    max_tokens=10000,\n",
        "    output_mode=\"int\",\n",
        "    output_sequence_length=20\n",
        ")\n",
        "\n",
        "title_preprocessor.adapt(train_df[\"title\"])\n"
      ],
      "metadata": {
        "id": "XSN0D5gJPX6X"
      }
    },
    {
      "cell_type": "code",
      "source": [
        "# Extract the titles from the new training set\n",
        "train_inputs = train_df['title']\n",
        "\n",
        "# Generate a new vocabulary\n",
        "title_preprocessor.adapt(train_inputs)\n",
        "\n",
        "# Save the new vocabulary\n",
        "lab_utils.save_vocab(title_preprocessor, vocab_dir)"
      ],
      "metadata": {
        "id": "MZxX2sKEOU9e"
      },
      "execution_count": 34,
      "outputs": []
    },
    {
      "cell_type": "markdown",
      "source": [
        "## 🧠 Train and Evaluate the Model on Balanced Dataset\n",
        "\n",
        "Now that the preprocessing layers have been updated, it's time to **train the prototype model from scratch** using the new balanced train/dev/test splits.\n",
        "\n",
        "To do that, you can either:\n",
        "- Rebuild the same model architecture manually, or\n",
        "- Use the `model_reset_weights()` helper from `lab_utils.py` to reset an already loaded model.\n",
        "\n",
        "### 🔁 Reset the Model Weights\n",
        "\n",
        "If you've already loaded the prototype model earlier, reset it like this:\n",
        "\n",
        "```python\n",
        "# Reset model weights to allow training from scratch\n",
        "model_reset_weights(model)\n"
      ],
      "metadata": {
        "id": "LZ4rP41RPzTc"
      }
    },
    {
      "cell_type": "code",
      "source": [
        "NUM_EPOCHS = 5\n",
        "\n",
        "# Convert the string datasets to Tensorflow datasets\n",
        "train_ds = lab_utils.df_to_tfdata(train_df, topic_lookup, title_preprocessor, shuffle=True)\n",
        "dev_ds = lab_utils.df_to_tfdata(dev_df, topic_lookup, title_preprocessor)\n",
        "test_ds = lab_utils.df_to_tfdata(test_df, topic_lookup, title_preprocessor)\n",
        "\n",
        "# Reset the model weights\n",
        "model = lab_utils.model_reset_weights(model)\n",
        "\n",
        "# Train the model. Use the dev set to check if your model is overfitting.\n",
        "model.fit(train_ds, epochs=NUM_EPOCHS, validation_data=dev_ds, verbose=1)"
      ],
      "metadata": {
        "id": "zvcaPBj-PntJ",
        "colab": {
          "base_uri": "https://localhost:8080/"
        },
        "outputId": "e3cf3ebe-07e2-4790-d194-fe77291e6ccf"
      },
      "execution_count": 35,
      "outputs": [
        {
          "output_type": "stream",
          "name": "stdout",
          "text": [
            "Epoch 1/5\n",
            "\u001b[1m2040/2040\u001b[0m \u001b[32m━━━━━━━━━━━━━━━━━━━━\u001b[0m\u001b[37m\u001b[0m \u001b[1m8s\u001b[0m 3ms/step - loss: 1.4291 - sparse_categorical_accuracy: 0.4354 - val_loss: 0.5936 - val_sparse_categorical_accuracy: 0.7910\n",
            "Epoch 2/5\n",
            "\u001b[1m2040/2040\u001b[0m \u001b[32m━━━━━━━━━━━━━━━━━━━━\u001b[0m\u001b[37m\u001b[0m \u001b[1m6s\u001b[0m 3ms/step - loss: 0.5138 - sparse_categorical_accuracy: 0.8224 - val_loss: 0.5202 - val_sparse_categorical_accuracy: 0.8203\n",
            "Epoch 3/5\n",
            "\u001b[1m2040/2040\u001b[0m \u001b[32m━━━━━━━━━━━━━━━━━━━━\u001b[0m\u001b[37m\u001b[0m \u001b[1m10s\u001b[0m 3ms/step - loss: 0.3751 - sparse_categorical_accuracy: 0.8720 - val_loss: 0.5365 - val_sparse_categorical_accuracy: 0.8224\n",
            "Epoch 4/5\n",
            "\u001b[1m2040/2040\u001b[0m \u001b[32m━━━━━━━━━━━━━━━━━━━━\u001b[0m\u001b[37m\u001b[0m \u001b[1m10s\u001b[0m 3ms/step - loss: 0.3068 - sparse_categorical_accuracy: 0.8954 - val_loss: 0.5764 - val_sparse_categorical_accuracy: 0.8174\n",
            "Epoch 5/5\n",
            "\u001b[1m2040/2040\u001b[0m \u001b[32m━━━━━━━━━━━━━━━━━━━━\u001b[0m\u001b[37m\u001b[0m \u001b[1m10s\u001b[0m 3ms/step - loss: 0.2512 - sparse_categorical_accuracy: 0.9154 - val_loss: 0.6292 - val_sparse_categorical_accuracy: 0.8116\n"
          ]
        },
        {
          "output_type": "execute_result",
          "data": {
            "text/plain": [
              "<keras.src.callbacks.history.History at 0x7fcea389c7d0>"
            ]
          },
          "metadata": {},
          "execution_count": 35
        }
      ]
    },
    {
      "cell_type": "code",
      "source": [
        "# Compute the loss and metrics\n",
        "model.evaluate(test_ds)"
      ],
      "metadata": {
        "id": "w-ppraBoOU3c",
        "colab": {
          "base_uri": "https://localhost:8080/"
        },
        "outputId": "901b1ac6-87f8-44a0-9dc2-f8c3b23efa2c"
      },
      "execution_count": 36,
      "outputs": [
        {
          "output_type": "stream",
          "name": "stdout",
          "text": [
            "\u001b[1m680/680\u001b[0m \u001b[32m━━━━━━━━━━━━━━━━━━━━\u001b[0m\u001b[37m\u001b[0m \u001b[1m2s\u001b[0m 2ms/step - loss: 0.6454 - sparse_categorical_accuracy: 0.8146\n"
          ]
        },
        {
          "output_type": "execute_result",
          "data": {
            "text/plain": [
              "[0.6458833813667297, 0.8113996982574463]"
            ]
          },
          "metadata": {},
          "execution_count": 36
        }
      ]
    },
    {
      "cell_type": "code",
      "source": [
        "# Save the model\n",
        "model.save(model_dir + '/my_model.keras')"
      ],
      "metadata": {
        "id": "rOXgC7a5OUye"
      },
      "execution_count": 40,
      "outputs": []
    },
    {
      "cell_type": "markdown",
      "source": [
        "- **Model Saving**\n",
        "  - A backup of the trained model was saved to the `E2` directory:\n",
        "    ```python\n",
        "    model.save(model_dir)\n",
        "    ```\n",
        "\n",
        "- **Performance Overview**\n",
        "  - Accuracy increased from approximately **78%** to **81%** as a result of dataset modifications.\n",
        "\n",
        "- **Next Step**\n",
        "  - Accuracy will be further analyzed based on **data slices** to gain deeper insights."
      ],
      "metadata": {
        "id": "RqyR3K0Xcv83"
      }
    },
    {
      "cell_type": "markdown",
      "source": [
        "### 🔍 Error Analysis\n",
        "\n",
        "- **Purpose**\n",
        "  - Initial model performance may be suboptimal. Error analysis was performed to identify areas with the highest potential for improvement.\n",
        "\n",
        "- **Benefits**\n",
        "  - Key components affecting performance were prioritized.\n",
        "  - Unnecessary optimizations were avoided by focusing only on impactful elements.\n",
        "\n",
        "### 🎯 Prioritization Strategy\n",
        "\n",
        "- **Approach**\n",
        "  - Model performance was analyzed across different data categories.\n",
        "  - Each of the 8 target classes was evaluated to guide further improvements.\n"
      ],
      "metadata": {
        "id": "X0CzHW5gdwTj"
      }
    },
    {
      "cell_type": "code",
      "source": [
        "# Get the list of topics\n",
        "topics = topic_lookup.get_vocabulary()\n",
        "\n",
        "# Evaluate the model's performance for each topic\n",
        "lab_utils.print_metric_per_topic(dev_df, topics, topic_lookup, title_preprocessor, model)"
      ],
      "metadata": {
        "id": "-r-bqIOrOUsW",
        "colab": {
          "base_uri": "https://localhost:8080/"
        },
        "outputId": "5ca925ed-f955-4ce5-fdb5-f527d2ebd314"
      },
      "execution_count": 41,
      "outputs": [
        {
          "output_type": "stream",
          "name": "stdout",
          "text": [
            "ACCURACY PER TOPIC:\n",
            "\n",
            "ENTERTAINMENT: 83.93 \n",
            "HEALTH: 80.50 \n",
            "TECHNOLOGY: 88.77 \n",
            "WORLD: 66.10 \n",
            "BUSINESS: 100.00 \n",
            "SPORTS: 85.73 \n",
            "NATION: 63.00 \n",
            "SCIENCE: 81.59 \n"
          ]
        }
      ]
    },
    {
      "cell_type": "markdown",
      "source": [
        "### 📊 Result Interpretation\n",
        "\n",
        "- **Outlier Detection**\n",
        "  - Categories with unusually high or low performance were identified for further investigation.\n",
        "\n",
        "- **Comparison with Baseline**\n",
        "  - Where available, human-level performance (HLP) was used as a reference.\n",
        "  - Gaps between model performance and HLP guided optimization focus.\n",
        "\n",
        "### ⚠️ Anomaly Identification\n",
        "\n",
        "- **Example Observation**\n",
        "  - The BUSINESS category showed unexpectedly high performance.\n",
        "  - Possible data leakage or imbalance was considered and examined.\n"
      ],
      "metadata": {
        "id": "Me_xPebqeMmp"
      }
    },
    {
      "cell_type": "code",
      "source": [
        "# filter the training dataframe's business articles\n",
        "train_df[train_df.topic=='BUSINESS']"
      ],
      "metadata": {
        "id": "Hea6RdGNOUnB",
        "colab": {
          "base_uri": "https://localhost:8080/",
          "height": 1000
        },
        "outputId": "ca0367b3-bed0-41db-e46e-a9976dc130f2"
      },
      "execution_count": 42,
      "outputs": [
        {
          "output_type": "execute_result",
          "data": {
            "text/plain": [
              "                                                                          title  \\\n",
              "4      Why iPhone 12 Will Be Another 'Defining Chapter' In Apple's Growth Story   \n",
              "5      Why iPhone 12 Will Be Another 'Defining Chapter' In Apple's Growth Story   \n",
              "17     Why iPhone 12 Will Be Another 'Defining Chapter' In Apple's Growth Story   \n",
              "43     Why iPhone 12 Will Be Another 'Defining Chapter' In Apple's Growth Story   \n",
              "46     Why iPhone 12 Will Be Another 'Defining Chapter' In Apple's Growth Story   \n",
              "...                                                                         ...   \n",
              "65197  Why iPhone 12 Will Be Another 'Defining Chapter' In Apple's Growth Story   \n",
              "65208  Why iPhone 12 Will Be Another 'Defining Chapter' In Apple's Growth Story   \n",
              "65221  Why iPhone 12 Will Be Another 'Defining Chapter' In Apple's Growth Story   \n",
              "65251  Why iPhone 12 Will Be Another 'Defining Chapter' In Apple's Growth Story   \n",
              "65254  Why iPhone 12 Will Be Another 'Defining Chapter' In Apple's Growth Story   \n",
              "\n",
              "                                                                                                                                                             link  \\\n",
              "4                                                          https://uk.sports.yahoo.com/news/stocks-markets-europe-ftse-latest-us-china-coronavirus-074214470.html   \n",
              "5                         https://www.reuters.com/article/us-russia-banks-vtb/russias-vtb-bank-raises-retail-lending-forecast-amid-record-low-rates-idUSKCN25112D   \n",
              "17                                       https://gnghockey.com/2020/08/13/global-filters-and-particle-monitoring-market-industry-analysis-and-forecast-2020-2027/   \n",
              "43                                                                                             https://www.bbc.co.uk/news/uk-england-stoke-staffordshire-53640494   \n",
              "46                                                        https://www.producebluebook.com/2020/08/03/thomson-international-recalls-onions-in-salmonella-outbreak/   \n",
              "...                                                                                                                                                           ...   \n",
              "65197                                                                               https://www.oxfordmail.co.uk/news/18630087.oxfords-cheapest-property-rentals/   \n",
              "65208                                    https://www.forbes.com/sites/greatspeculations/2020/08/12/johnson-controls-stock-is-back-at-40-but-can-it-gain-any-more/   \n",
              "65221                  https://www.indiatoday.in/business/story/explained-how-govt-is-attracting-foreign-firms-to-manufacture-locally-in-india-1712015-2020-08-17   \n",
              "65251                            https://www.njmmanews.com/coronavirus-impact-on-3d-and-virtual-realityfacebook-oculus-microsofthololens-google-samsung-htc-vive/   \n",
              "65254  https://www.nydailynews.com/coronavirus/ny-coronavirus-clorox-ceo-making-1-million-disinfecting-wipes-a-day-20200811-mccqa2zyxbexdjme6cpa4i5nha-story.html   \n",
              "\n",
              "                    domain       published_date     topic  \n",
              "4      uk.sports.yahoo.com  2020-08-17 07:42:00  BUSINESS  \n",
              "5              reuters.com  2020-08-05 08:45:00  BUSINESS  \n",
              "17           gnghockey.com  2020-08-13 11:53:28  BUSINESS  \n",
              "43               bbc.co.uk  2020-08-03 20:11:04  BUSINESS  \n",
              "46     producebluebook.com  2020-08-03 13:11:00  BUSINESS  \n",
              "...                    ...                  ...       ...  \n",
              "65197     oxfordmail.co.uk  2020-08-08 04:00:00  BUSINESS  \n",
              "65208           forbes.com  2020-08-12 13:30:00  BUSINESS  \n",
              "65221        indiatoday.in  2020-08-17 05:01:22  BUSINESS  \n",
              "65251        njmmanews.com  2020-08-15 15:11:33  BUSINESS  \n",
              "65254      nydailynews.com  2020-08-11 23:07:00  BUSINESS  \n",
              "\n",
              "[9000 rows x 5 columns]"
            ],
            "text/html": [
              "\n",
              "  <div id=\"df-b9ea0a54-f9d2-4dd4-9fa1-b8270199aeb9\" class=\"colab-df-container\">\n",
              "    <div>\n",
              "<style scoped>\n",
              "    .dataframe tbody tr th:only-of-type {\n",
              "        vertical-align: middle;\n",
              "    }\n",
              "\n",
              "    .dataframe tbody tr th {\n",
              "        vertical-align: top;\n",
              "    }\n",
              "\n",
              "    .dataframe thead th {\n",
              "        text-align: right;\n",
              "    }\n",
              "</style>\n",
              "<table border=\"1\" class=\"dataframe\">\n",
              "  <thead>\n",
              "    <tr style=\"text-align: right;\">\n",
              "      <th></th>\n",
              "      <th>title</th>\n",
              "      <th>link</th>\n",
              "      <th>domain</th>\n",
              "      <th>published_date</th>\n",
              "      <th>topic</th>\n",
              "    </tr>\n",
              "  </thead>\n",
              "  <tbody>\n",
              "    <tr>\n",
              "      <th>4</th>\n",
              "      <td>Why iPhone 12 Will Be Another 'Defining Chapter' In Apple's Growth Story</td>\n",
              "      <td>https://uk.sports.yahoo.com/news/stocks-markets-europe-ftse-latest-us-china-coronavirus-074214470.html</td>\n",
              "      <td>uk.sports.yahoo.com</td>\n",
              "      <td>2020-08-17 07:42:00</td>\n",
              "      <td>BUSINESS</td>\n",
              "    </tr>\n",
              "    <tr>\n",
              "      <th>5</th>\n",
              "      <td>Why iPhone 12 Will Be Another 'Defining Chapter' In Apple's Growth Story</td>\n",
              "      <td>https://www.reuters.com/article/us-russia-banks-vtb/russias-vtb-bank-raises-retail-lending-forecast-amid-record-low-rates-idUSKCN25112D</td>\n",
              "      <td>reuters.com</td>\n",
              "      <td>2020-08-05 08:45:00</td>\n",
              "      <td>BUSINESS</td>\n",
              "    </tr>\n",
              "    <tr>\n",
              "      <th>17</th>\n",
              "      <td>Why iPhone 12 Will Be Another 'Defining Chapter' In Apple's Growth Story</td>\n",
              "      <td>https://gnghockey.com/2020/08/13/global-filters-and-particle-monitoring-market-industry-analysis-and-forecast-2020-2027/</td>\n",
              "      <td>gnghockey.com</td>\n",
              "      <td>2020-08-13 11:53:28</td>\n",
              "      <td>BUSINESS</td>\n",
              "    </tr>\n",
              "    <tr>\n",
              "      <th>43</th>\n",
              "      <td>Why iPhone 12 Will Be Another 'Defining Chapter' In Apple's Growth Story</td>\n",
              "      <td>https://www.bbc.co.uk/news/uk-england-stoke-staffordshire-53640494</td>\n",
              "      <td>bbc.co.uk</td>\n",
              "      <td>2020-08-03 20:11:04</td>\n",
              "      <td>BUSINESS</td>\n",
              "    </tr>\n",
              "    <tr>\n",
              "      <th>46</th>\n",
              "      <td>Why iPhone 12 Will Be Another 'Defining Chapter' In Apple's Growth Story</td>\n",
              "      <td>https://www.producebluebook.com/2020/08/03/thomson-international-recalls-onions-in-salmonella-outbreak/</td>\n",
              "      <td>producebluebook.com</td>\n",
              "      <td>2020-08-03 13:11:00</td>\n",
              "      <td>BUSINESS</td>\n",
              "    </tr>\n",
              "    <tr>\n",
              "      <th>...</th>\n",
              "      <td>...</td>\n",
              "      <td>...</td>\n",
              "      <td>...</td>\n",
              "      <td>...</td>\n",
              "      <td>...</td>\n",
              "    </tr>\n",
              "    <tr>\n",
              "      <th>65197</th>\n",
              "      <td>Why iPhone 12 Will Be Another 'Defining Chapter' In Apple's Growth Story</td>\n",
              "      <td>https://www.oxfordmail.co.uk/news/18630087.oxfords-cheapest-property-rentals/</td>\n",
              "      <td>oxfordmail.co.uk</td>\n",
              "      <td>2020-08-08 04:00:00</td>\n",
              "      <td>BUSINESS</td>\n",
              "    </tr>\n",
              "    <tr>\n",
              "      <th>65208</th>\n",
              "      <td>Why iPhone 12 Will Be Another 'Defining Chapter' In Apple's Growth Story</td>\n",
              "      <td>https://www.forbes.com/sites/greatspeculations/2020/08/12/johnson-controls-stock-is-back-at-40-but-can-it-gain-any-more/</td>\n",
              "      <td>forbes.com</td>\n",
              "      <td>2020-08-12 13:30:00</td>\n",
              "      <td>BUSINESS</td>\n",
              "    </tr>\n",
              "    <tr>\n",
              "      <th>65221</th>\n",
              "      <td>Why iPhone 12 Will Be Another 'Defining Chapter' In Apple's Growth Story</td>\n",
              "      <td>https://www.indiatoday.in/business/story/explained-how-govt-is-attracting-foreign-firms-to-manufacture-locally-in-india-1712015-2020-08-17</td>\n",
              "      <td>indiatoday.in</td>\n",
              "      <td>2020-08-17 05:01:22</td>\n",
              "      <td>BUSINESS</td>\n",
              "    </tr>\n",
              "    <tr>\n",
              "      <th>65251</th>\n",
              "      <td>Why iPhone 12 Will Be Another 'Defining Chapter' In Apple's Growth Story</td>\n",
              "      <td>https://www.njmmanews.com/coronavirus-impact-on-3d-and-virtual-realityfacebook-oculus-microsofthololens-google-samsung-htc-vive/</td>\n",
              "      <td>njmmanews.com</td>\n",
              "      <td>2020-08-15 15:11:33</td>\n",
              "      <td>BUSINESS</td>\n",
              "    </tr>\n",
              "    <tr>\n",
              "      <th>65254</th>\n",
              "      <td>Why iPhone 12 Will Be Another 'Defining Chapter' In Apple's Growth Story</td>\n",
              "      <td>https://www.nydailynews.com/coronavirus/ny-coronavirus-clorox-ceo-making-1-million-disinfecting-wipes-a-day-20200811-mccqa2zyxbexdjme6cpa4i5nha-story.html</td>\n",
              "      <td>nydailynews.com</td>\n",
              "      <td>2020-08-11 23:07:00</td>\n",
              "      <td>BUSINESS</td>\n",
              "    </tr>\n",
              "  </tbody>\n",
              "</table>\n",
              "<p>9000 rows × 5 columns</p>\n",
              "</div>\n",
              "    <div class=\"colab-df-buttons\">\n",
              "\n",
              "  <div class=\"colab-df-container\">\n",
              "    <button class=\"colab-df-convert\" onclick=\"convertToInteractive('df-b9ea0a54-f9d2-4dd4-9fa1-b8270199aeb9')\"\n",
              "            title=\"Convert this dataframe to an interactive table.\"\n",
              "            style=\"display:none;\">\n",
              "\n",
              "  <svg xmlns=\"http://www.w3.org/2000/svg\" height=\"24px\" viewBox=\"0 -960 960 960\">\n",
              "    <path d=\"M120-120v-720h720v720H120Zm60-500h600v-160H180v160Zm220 220h160v-160H400v160Zm0 220h160v-160H400v160ZM180-400h160v-160H180v160Zm440 0h160v-160H620v160ZM180-180h160v-160H180v160Zm440 0h160v-160H620v160Z\"/>\n",
              "  </svg>\n",
              "    </button>\n",
              "\n",
              "  <style>\n",
              "    .colab-df-container {\n",
              "      display:flex;\n",
              "      gap: 12px;\n",
              "    }\n",
              "\n",
              "    .colab-df-convert {\n",
              "      background-color: #E8F0FE;\n",
              "      border: none;\n",
              "      border-radius: 50%;\n",
              "      cursor: pointer;\n",
              "      display: none;\n",
              "      fill: #1967D2;\n",
              "      height: 32px;\n",
              "      padding: 0 0 0 0;\n",
              "      width: 32px;\n",
              "    }\n",
              "\n",
              "    .colab-df-convert:hover {\n",
              "      background-color: #E2EBFA;\n",
              "      box-shadow: 0px 1px 2px rgba(60, 64, 67, 0.3), 0px 1px 3px 1px rgba(60, 64, 67, 0.15);\n",
              "      fill: #174EA6;\n",
              "    }\n",
              "\n",
              "    .colab-df-buttons div {\n",
              "      margin-bottom: 4px;\n",
              "    }\n",
              "\n",
              "    [theme=dark] .colab-df-convert {\n",
              "      background-color: #3B4455;\n",
              "      fill: #D2E3FC;\n",
              "    }\n",
              "\n",
              "    [theme=dark] .colab-df-convert:hover {\n",
              "      background-color: #434B5C;\n",
              "      box-shadow: 0px 1px 3px 1px rgba(0, 0, 0, 0.15);\n",
              "      filter: drop-shadow(0px 1px 2px rgba(0, 0, 0, 0.3));\n",
              "      fill: #FFFFFF;\n",
              "    }\n",
              "  </style>\n",
              "\n",
              "    <script>\n",
              "      const buttonEl =\n",
              "        document.querySelector('#df-b9ea0a54-f9d2-4dd4-9fa1-b8270199aeb9 button.colab-df-convert');\n",
              "      buttonEl.style.display =\n",
              "        google.colab.kernel.accessAllowed ? 'block' : 'none';\n",
              "\n",
              "      async function convertToInteractive(key) {\n",
              "        const element = document.querySelector('#df-b9ea0a54-f9d2-4dd4-9fa1-b8270199aeb9');\n",
              "        const dataTable =\n",
              "          await google.colab.kernel.invokeFunction('convertToInteractive',\n",
              "                                                    [key], {});\n",
              "        if (!dataTable) return;\n",
              "\n",
              "        const docLinkHtml = 'Like what you see? Visit the ' +\n",
              "          '<a target=\"_blank\" href=https://colab.research.google.com/notebooks/data_table.ipynb>data table notebook</a>'\n",
              "          + ' to learn more about interactive tables.';\n",
              "        element.innerHTML = '';\n",
              "        dataTable['output_type'] = 'display_data';\n",
              "        await google.colab.output.renderOutput(dataTable, element);\n",
              "        const docLink = document.createElement('div');\n",
              "        docLink.innerHTML = docLinkHtml;\n",
              "        element.appendChild(docLink);\n",
              "      }\n",
              "    </script>\n",
              "  </div>\n",
              "\n",
              "\n",
              "    <div id=\"df-b270a5f3-63f2-4e81-8288-bff2957f049e\">\n",
              "      <button class=\"colab-df-quickchart\" onclick=\"quickchart('df-b270a5f3-63f2-4e81-8288-bff2957f049e')\"\n",
              "                title=\"Suggest charts\"\n",
              "                style=\"display:none;\">\n",
              "\n",
              "<svg xmlns=\"http://www.w3.org/2000/svg\" height=\"24px\"viewBox=\"0 0 24 24\"\n",
              "     width=\"24px\">\n",
              "    <g>\n",
              "        <path d=\"M19 3H5c-1.1 0-2 .9-2 2v14c0 1.1.9 2 2 2h14c1.1 0 2-.9 2-2V5c0-1.1-.9-2-2-2zM9 17H7v-7h2v7zm4 0h-2V7h2v10zm4 0h-2v-4h2v4z\"/>\n",
              "    </g>\n",
              "</svg>\n",
              "      </button>\n",
              "\n",
              "<style>\n",
              "  .colab-df-quickchart {\n",
              "      --bg-color: #E8F0FE;\n",
              "      --fill-color: #1967D2;\n",
              "      --hover-bg-color: #E2EBFA;\n",
              "      --hover-fill-color: #174EA6;\n",
              "      --disabled-fill-color: #AAA;\n",
              "      --disabled-bg-color: #DDD;\n",
              "  }\n",
              "\n",
              "  [theme=dark] .colab-df-quickchart {\n",
              "      --bg-color: #3B4455;\n",
              "      --fill-color: #D2E3FC;\n",
              "      --hover-bg-color: #434B5C;\n",
              "      --hover-fill-color: #FFFFFF;\n",
              "      --disabled-bg-color: #3B4455;\n",
              "      --disabled-fill-color: #666;\n",
              "  }\n",
              "\n",
              "  .colab-df-quickchart {\n",
              "    background-color: var(--bg-color);\n",
              "    border: none;\n",
              "    border-radius: 50%;\n",
              "    cursor: pointer;\n",
              "    display: none;\n",
              "    fill: var(--fill-color);\n",
              "    height: 32px;\n",
              "    padding: 0;\n",
              "    width: 32px;\n",
              "  }\n",
              "\n",
              "  .colab-df-quickchart:hover {\n",
              "    background-color: var(--hover-bg-color);\n",
              "    box-shadow: 0 1px 2px rgba(60, 64, 67, 0.3), 0 1px 3px 1px rgba(60, 64, 67, 0.15);\n",
              "    fill: var(--button-hover-fill-color);\n",
              "  }\n",
              "\n",
              "  .colab-df-quickchart-complete:disabled,\n",
              "  .colab-df-quickchart-complete:disabled:hover {\n",
              "    background-color: var(--disabled-bg-color);\n",
              "    fill: var(--disabled-fill-color);\n",
              "    box-shadow: none;\n",
              "  }\n",
              "\n",
              "  .colab-df-spinner {\n",
              "    border: 2px solid var(--fill-color);\n",
              "    border-color: transparent;\n",
              "    border-bottom-color: var(--fill-color);\n",
              "    animation:\n",
              "      spin 1s steps(1) infinite;\n",
              "  }\n",
              "\n",
              "  @keyframes spin {\n",
              "    0% {\n",
              "      border-color: transparent;\n",
              "      border-bottom-color: var(--fill-color);\n",
              "      border-left-color: var(--fill-color);\n",
              "    }\n",
              "    20% {\n",
              "      border-color: transparent;\n",
              "      border-left-color: var(--fill-color);\n",
              "      border-top-color: var(--fill-color);\n",
              "    }\n",
              "    30% {\n",
              "      border-color: transparent;\n",
              "      border-left-color: var(--fill-color);\n",
              "      border-top-color: var(--fill-color);\n",
              "      border-right-color: var(--fill-color);\n",
              "    }\n",
              "    40% {\n",
              "      border-color: transparent;\n",
              "      border-right-color: var(--fill-color);\n",
              "      border-top-color: var(--fill-color);\n",
              "    }\n",
              "    60% {\n",
              "      border-color: transparent;\n",
              "      border-right-color: var(--fill-color);\n",
              "    }\n",
              "    80% {\n",
              "      border-color: transparent;\n",
              "      border-right-color: var(--fill-color);\n",
              "      border-bottom-color: var(--fill-color);\n",
              "    }\n",
              "    90% {\n",
              "      border-color: transparent;\n",
              "      border-bottom-color: var(--fill-color);\n",
              "    }\n",
              "  }\n",
              "</style>\n",
              "\n",
              "      <script>\n",
              "        async function quickchart(key) {\n",
              "          const quickchartButtonEl =\n",
              "            document.querySelector('#' + key + ' button');\n",
              "          quickchartButtonEl.disabled = true;  // To prevent multiple clicks.\n",
              "          quickchartButtonEl.classList.add('colab-df-spinner');\n",
              "          try {\n",
              "            const charts = await google.colab.kernel.invokeFunction(\n",
              "                'suggestCharts', [key], {});\n",
              "          } catch (error) {\n",
              "            console.error('Error during call to suggestCharts:', error);\n",
              "          }\n",
              "          quickchartButtonEl.classList.remove('colab-df-spinner');\n",
              "          quickchartButtonEl.classList.add('colab-df-quickchart-complete');\n",
              "        }\n",
              "        (() => {\n",
              "          let quickchartButtonEl =\n",
              "            document.querySelector('#df-b270a5f3-63f2-4e81-8288-bff2957f049e button');\n",
              "          quickchartButtonEl.style.display =\n",
              "            google.colab.kernel.accessAllowed ? 'block' : 'none';\n",
              "        })();\n",
              "      </script>\n",
              "    </div>\n",
              "\n",
              "    </div>\n",
              "  </div>\n"
            ],
            "application/vnd.google.colaboratory.intrinsic+json": {
              "type": "dataframe",
              "repr_error": "0"
            }
          },
          "metadata": {},
          "execution_count": 42
        }
      ]
    },
    {
      "cell_type": "markdown",
      "source": [
        "### 🛠️ Data Quality Issue Identified\n",
        "\n",
        "- **Problem**\n",
        "  - All article titles were found to be identical:  \n",
        "    *\"Why iPhone 12 Will Be Another 'Defining Chapter' In Apple's Growth Story\"*\n",
        "\n",
        "- **Impact**\n",
        "  - The model learned only this repeated pattern, reducing its ability to generalize to real-world data.\n",
        "\n",
        "- **Root Cause**\n",
        "  - Column values were accidentally overwritten during a character encoding fix by a previous developer.\n",
        "\n",
        "### 💾 Recovery and Reprocessing\n",
        "\n",
        "- **Solution**\n",
        "  - Original data was restored using a backup file containing correct values.\n",
        "\n",
        "- **Next Steps**\n",
        "  - New train, dev, and test sets were generated.\n",
        "  - These datasets were saved to a new folder named `E3` for a fresh experiment.\n"
      ],
      "metadata": {
        "id": "oMCmMBCqeoAB"
      }
    },
    {
      "cell_type": "code",
      "source": [
        "# Set the experiment folder\n",
        "BASE_DIR = '/content/drive/MyDrive/News_Filtering_Production/News_Filtering_Production/E3'\n",
        "\n",
        "# Set the subdirectories that will contain the experiment files\n",
        "data_dir, model_dir, vocab_dir = lab_utils.set_experiment_dirs(BASE_DIR)\n",
        "\n",
        "# Load the backup CSV\n",
        "combined_df = pd.read_csv(f'/content/drive/MyDrive/News_Filtering_Production/News_Filtering_Production/backup.csv')\n",
        "\n",
        "# Generate train, dev, and test sets as you did before.\n",
        "train_df, test_df = train_test_split(combined_df, test_size=0.2, stratify=combined_df['topic'])\n",
        "train_df, dev_df = train_test_split(train_df, test_size=0.25, stratify=train_df['topic'])\n",
        "\n",
        "# Save the datasets under the E3 folder\n",
        "lab_utils.save_data(train_df, data_dir, 'train_data.csv')\n",
        "lab_utils.save_data(dev_df, data_dir, 'dev_data.csv')\n",
        "lab_utils.save_data(test_df, data_dir, 'test_data.csv')"
      ],
      "metadata": {
        "id": "PUpNV350eYkc"
      },
      "execution_count": 46,
      "outputs": []
    },
    {
      "cell_type": "markdown",
      "source": [
        "### 🧱 Vocabulary Update\n",
        "\n",
        "- **Requirement**\n",
        "  - The title preprocessor was updated and a new vocabulary was generated using the corrected training data.\n",
        "\n",
        "- **Steps Taken**\n",
        "  - Titles were extracted from the `train_df`.\n",
        "  - The `adapt()` method was used on `title_preprocessor` to build the vocabulary.\n",
        "  - The new vocabulary was saved using the `save_vocab()` utility from `lab_utils`.\n",
        "\n",
        "- **Storage**\n",
        "  - The updated vocabulary was saved in the `E3/vocab_dir` folder.\n"
      ],
      "metadata": {
        "id": "liryoB-Bh7WG"
      }
    },
    {
      "cell_type": "code",
      "source": [
        "# Generate a new vocabulary based on the new training set\n",
        "train_inputs = train_df['title']\n",
        "title_preprocessor.adapt(train_inputs)\n",
        "\n",
        "# Save the new vocabulary and labels\n",
        "lab_utils.save_vocab(title_preprocessor, vocab_dir)\n",
        "lab_utils.save_labels(topic_lookup, vocab_dir)"
      ],
      "metadata": {
        "id": "jpYEja6Dh6nR"
      },
      "execution_count": 47,
      "outputs": []
    },
    {
      "cell_type": "markdown",
      "source": [
        "### 🔄 Data Conversion and Model Retraining\n",
        "\n",
        "- **Data Preparation**\n",
        "  - DataFrames were converted into `tf.data.Dataset` format using `lab_utils.df_to_tfdata`.\n",
        "\n",
        "- **Model Training**\n",
        "  - The model was retrained using the updated datasets.\n",
        "  - Training was performed for **5 epochs** with `dev_df` used for validation.\n"
      ],
      "metadata": {
        "id": "jLF3mqpKiPPi"
      }
    },
    {
      "cell_type": "code",
      "source": [
        "NUM_EPOCHS = 5\n",
        "\n",
        "# Convert the dataframes to numeric features. Remember to shuffle the training set.\n",
        "train_ds = lab_utils.df_to_tfdata(train_df, topic_lookup, title_preprocessor, shuffle=True)\n",
        "dev_ds = lab_utils.df_to_tfdata(dev_df, topic_lookup, title_preprocessor)\n",
        "test_ds = lab_utils.df_to_tfdata(test_df, topic_lookup, title_preprocessor)\n",
        "\n",
        "# Reset the model weights\n",
        "model = lab_utils.model_reset_weights(model)\n",
        "\n",
        "# Train the model\n",
        "model.fit(train_ds, epochs=NUM_EPOCHS, validation_data=dev_ds, verbose=1)"
      ],
      "metadata": {
        "colab": {
          "base_uri": "https://localhost:8080/"
        },
        "id": "V3hFhq2Mh6iZ",
        "outputId": "a352370e-0ea7-41d9-a322-26373177d47d"
      },
      "execution_count": 48,
      "outputs": [
        {
          "output_type": "stream",
          "name": "stdout",
          "text": [
            "Epoch 1/5\n",
            "\u001b[1m2040/2040\u001b[0m \u001b[32m━━━━━━━━━━━━━━━━━━━━\u001b[0m\u001b[37m\u001b[0m \u001b[1m7s\u001b[0m 3ms/step - loss: 1.7103 - sparse_categorical_accuracy: 0.3495 - val_loss: 0.7938 - val_sparse_categorical_accuracy: 0.7361\n",
            "Epoch 2/5\n",
            "\u001b[1m2040/2040\u001b[0m \u001b[32m━━━━━━━━━━━━━━━━━━━━\u001b[0m\u001b[37m\u001b[0m \u001b[1m9s\u001b[0m 3ms/step - loss: 0.6907 - sparse_categorical_accuracy: 0.7663 - val_loss: 0.7310 - val_sparse_categorical_accuracy: 0.7573\n",
            "Epoch 3/5\n",
            "\u001b[1m2040/2040\u001b[0m \u001b[32m━━━━━━━━━━━━━━━━━━━━\u001b[0m\u001b[37m\u001b[0m \u001b[1m6s\u001b[0m 3ms/step - loss: 0.5240 - sparse_categorical_accuracy: 0.8257 - val_loss: 0.7377 - val_sparse_categorical_accuracy: 0.7638\n",
            "Epoch 4/5\n",
            "\u001b[1m2040/2040\u001b[0m \u001b[32m━━━━━━━━━━━━━━━━━━━━\u001b[0m\u001b[37m\u001b[0m \u001b[1m10s\u001b[0m 3ms/step - loss: 0.4388 - sparse_categorical_accuracy: 0.8525 - val_loss: 0.7783 - val_sparse_categorical_accuracy: 0.7599\n",
            "Epoch 5/5\n",
            "\u001b[1m2040/2040\u001b[0m \u001b[32m━━━━━━━━━━━━━━━━━━━━\u001b[0m\u001b[37m\u001b[0m \u001b[1m10s\u001b[0m 3ms/step - loss: 0.3720 - sparse_categorical_accuracy: 0.8757 - val_loss: 0.8389 - val_sparse_categorical_accuracy: 0.7561\n"
          ]
        },
        {
          "output_type": "execute_result",
          "data": {
            "text/plain": [
              "<keras.src.callbacks.history.History at 0x7fce0e23f650>"
            ]
          },
          "metadata": {},
          "execution_count": 48
        }
      ]
    },
    {
      "cell_type": "code",
      "source": [
        "# Evaluate the model on the test set and write the results on the experiment tracker\n",
        "model.evaluate(test_ds)"
      ],
      "metadata": {
        "colab": {
          "base_uri": "https://localhost:8080/"
        },
        "id": "mp41MIRVh6dg",
        "outputId": "dd6106a3-3d27-4b0e-c195-1d5acfbdbdd8"
      },
      "execution_count": 49,
      "outputs": [
        {
          "output_type": "stream",
          "name": "stdout",
          "text": [
            "\u001b[1m680/680\u001b[0m \u001b[32m━━━━━━━━━━━━━━━━━━━━\u001b[0m\u001b[37m\u001b[0m \u001b[1m1s\u001b[0m 2ms/step - loss: 0.7942 - sparse_categorical_accuracy: 0.7687\n"
          ]
        },
        {
          "output_type": "execute_result",
          "data": {
            "text/plain": [
              "[0.8204027414321899, 0.759411633014679]"
            ]
          },
          "metadata": {},
          "execution_count": 49
        }
      ]
    },
    {
      "cell_type": "code",
      "source": [
        "# Save the model to model_dir\n",
        "model.save(model_dir + '/my_model.keras')"
      ],
      "metadata": {
        "id": "uJ4PR-zgh6YS"
      },
      "execution_count": 53,
      "outputs": []
    },
    {
      "cell_type": "code",
      "source": [
        "lab_utils.print_metric_per_topic(dev_df, topics, topic_lookup, title_preprocessor, model)"
      ],
      "metadata": {
        "colab": {
          "base_uri": "https://localhost:8080/"
        },
        "id": "JDMC7aq1h6Rt",
        "outputId": "3ae90fd4-301e-4c0b-e7c8-c8b518231828"
      },
      "execution_count": 54,
      "outputs": [
        {
          "output_type": "stream",
          "name": "stdout",
          "text": [
            "ACCURACY PER TOPIC:\n",
            "\n",
            "ENTERTAINMENT: 83.50 \n",
            "HEALTH: 79.30 \n",
            "TECHNOLOGY: 85.23 \n",
            "WORLD: 59.80 \n",
            "BUSINESS: 69.13 \n",
            "SPORTS: 87.53 \n",
            "NATION: 63.73 \n",
            "SCIENCE: 79.60 \n"
          ]
        }
      ]
    },
    {
      "cell_type": "markdown",
      "source": [
        "### 📉 Topic-wise Evaluation\n",
        "\n",
        "- **Evaluation**\n",
        "  - The model was evaluated on each topic using `lab_utils.print_metric_per_topic()` with `dev_df`.\n",
        "\n",
        "- **Expected Outcome**\n",
        "  - Accuracy on **business** articles dropped from 100%, as the model now needs to learn a broader range of relevant words.\n",
        "\n",
        "- **Insight**\n",
        "  - More realistic performance was observed across all topics, indicating improved generalization.\n"
      ],
      "metadata": {
        "id": "oBvPtwhZjUB0"
      }
    },
    {
      "cell_type": "markdown",
      "source": [
        "### 🔍 Label Ambiguity and Improving Human-Level Performance (HLP)\n",
        "\n",
        "- **Identifying Low Accuracy Topics**\n",
        "  - After fixing the BUSINESS topic, attention was shifted to categories with lower accuracy, such as **WORLD** and **NATION**.\n",
        "  - Errors for NATION predictions were retrieved using:\n",
        "    ```python\n",
        "    lab_utils.get_errors(model, dev_df, title_preprocessor, topic_lookup, 'NATION')\n",
        "    ```\n",
        "\n",
        "- **Ambiguity in Labels**\n",
        "  - Some titles, e.g., *\"COVID-19 hospital admissions up slightly across St. Louis area\"*, could belong to multiple categories (HEALTH and NATION).\n",
        "  - Labelers may have inconsistent instructions, causing ambiguity and affecting model performance.\n",
        "\n",
        "- **Possible Solutions**\n",
        "  - Allow multi-label annotations where multiple topics can be selected for a single article:\n",
        "    | Title   | ENTERTAINMENT | HEALTH | TECHNOLOGY | WORLD | BUSINESS | SPORTS | NATION | SCIENCE |\n",
        "    |---------|---------------|--------|------------|-------|----------|--------|--------|---------|\n",
        "    | Title 1 |               |        |            |       |          |        |        |         |\n",
        "    | Title 2 |               |        |            |       |          |        |        |         |\n",
        "  \n",
        "  - Alternatively, merge related categories to reduce class count (e.g., merge SCIENCE and TECHNOLOGY).\n",
        "\n",
        "- **Business Considerations**\n",
        "  - Changes require approval from product/business owners due to impact on app features and backend systems.\n",
        "\n",
        "- **Model Adjustment for Multi-Label Evaluation**\n",
        "  - To account for ground truth labels in top two predictions, the model was recompiled with `SparseTopKCategoricalAccuracy` metric:\n",
        "    ```python\n",
        "    from tensorflow.keras.metrics import SparseTopKCategoricalAccuracy\n",
        "    \n",
        "    model.compile(\n",
        "      optimizer=model.optimizer,\n",
        "      loss=model.loss,\n",
        "      metrics=[SparseTopKCategoricalAccuracy(k=2)]\n",
        "    )\n",
        "    ```\n"
      ],
      "metadata": {
        "id": "Uy41o4HBjk3Z"
      }
    },
    {
      "cell_type": "code",
      "source": [
        "# Set the top-K accuracy to 2\n",
        "model.compile(loss='sparse_categorical_crossentropy',\n",
        "              optimizer='adam',\n",
        "              metrics=[tf.keras.metrics.SparseTopKCategoricalAccuracy(k=2)]\n",
        "             )\n",
        "\n",
        "# Check the accuracy\n",
        "model.evaluate(dev_ds)"
      ],
      "metadata": {
        "colab": {
          "base_uri": "https://localhost:8080/"
        },
        "id": "msXcA4Vvh6LU",
        "outputId": "310e2082-3f32-4401-c44c-5ff246ea9c1d"
      },
      "execution_count": 55,
      "outputs": [
        {
          "output_type": "stream",
          "name": "stdout",
          "text": [
            "\u001b[1m680/680\u001b[0m \u001b[32m━━━━━━━━━━━━━━━━━━━━\u001b[0m\u001b[37m\u001b[0m \u001b[1m2s\u001b[0m 2ms/step - loss: 0.8285 - sparse_top_k_categorical_accuracy: 0.8876\n"
          ]
        },
        {
          "output_type": "execute_result",
          "data": {
            "text/plain": [
              "[0.8388991951942444, 0.8832911849021912]"
            ]
          },
          "metadata": {},
          "execution_count": 55
        }
      ]
    },
    {
      "cell_type": "code",
      "source": [
        "# Print the accuracy per topic\n",
        "lab_utils.print_metric_per_topic(dev_df, topics, topic_lookup, title_preprocessor, model)"
      ],
      "metadata": {
        "colab": {
          "base_uri": "https://localhost:8080/"
        },
        "id": "nn-ncpB-jl-a",
        "outputId": "58475bc9-152c-415c-ec47-2b19f2f9ea36"
      },
      "execution_count": 57,
      "outputs": [
        {
          "output_type": "stream",
          "name": "stdout",
          "text": [
            "ACCURACY PER TOPIC:\n",
            "\n",
            "ENTERTAINMENT: 91.70 \n",
            "HEALTH: 91.20 \n",
            "TECHNOLOGY: 92.43 \n",
            "WORLD: 83.40 \n",
            "BUSINESS: 81.70 \n",
            "SPORTS: 92.13 \n",
            "NATION: 86.10 \n",
            "SCIENCE: 86.89 \n"
          ]
        }
      ]
    },
    {
      "cell_type": "markdown",
      "source": [
        "### 📈 Improved Accuracy with Top-2 Predictions\n",
        "\n",
        "- **Observations**\n",
        "  - Accuracy improved across all categories by considering the top two model predictions.\n",
        "  - WORLD and NATION topics showed the largest gains, exceeding 20 percentage points.\n",
        "  - Further analysis of differing top predictions can help evaluate multi-label or category-merging approaches.\n",
        "\n",
        "---\n",
        "\n",
        "### ➕ Adding More Data\n",
        "\n",
        "- **Rationale**\n",
        "  - Increasing training data is more likely to enhance model performance than degrade it.\n",
        "\n",
        "- **Category Imbalance**\n",
        "  - SCIENCE has fewer examples, possibly causing lower accuracy despite top-2 prediction consideration.\n",
        "\n",
        "- **Data Augmentation Techniques**\n",
        "  - Synonym replacement  \n",
        "  - Random insertion  \n",
        "  - Random swap  \n",
        "  - Random deletion  \n",
        "  - *Note:* Only apply augmentation to the training set, not to dev or test sets.\n",
        "\n",
        "- **Additional Data Sources**\n",
        "  - Incorporate datasets such as:\n",
        "    - AG News Classification Dataset  \n",
        "    - Huffington Post Headlines Dataset  \n",
        "  - Aim: Increase category diversity and vocabulary coverage.\n",
        "\n",
        "---\n",
        "\n",
        "### ⚙️ Model Parameter Modification\n",
        "\n",
        "- **Next Steps**\n",
        "  - Experiment with architecture by:\n",
        "    - Adding layers  \n",
        "    - Changing embedding and dense layer dimensionality  \n",
        "\n",
        "- **Prototype Model Example**\n",
        "  ```python\n",
        "  def build_model():\n",
        "      # Prototype code to build model\n",
        "      ...\n",
        "      return model\n"
      ],
      "metadata": {
        "id": "vmkCqXPRh54C"
      }
    },
    {
      "cell_type": "markdown",
      "source": [
        "### ⚙️ Further Preprocessing and Model Improvement\n",
        "\n",
        "- **TextVectorization Layer Tuning**\n",
        "  - Experiment with parameters such as `max_tokens` to optimize vocabulary size.\n",
        "  - Improve vocabulary quality by removing stop words (e.g., *a, the, is, and, are*) to focus on meaningful words.\n",
        "\n",
        "- **Alternative Approaches**\n",
        "  - Consider different model architectures or pre-trained models for text classification.\n",
        "  - Note: Compute constraints in the current environment may require training on machines with GPU support.\n",
        "\n",
        "---\n",
        "\n",
        "### 🚀 Deployment Considerations\n",
        "\n",
        "- **Post-Retraining**\n",
        "  - The cleaned and retrained model prototype is ready for deployment.\n",
        "\n",
        "- **Challenges**\n",
        "  - Deployment involves both software engineering and machine learning aspects.\n",
        "  - Continuous monitoring is essential to detect issues and maintain model performance during operation.\n"
      ],
      "metadata": {
        "id": "6m88ROzCl010"
      }
    },
    {
      "cell_type": "code",
      "source": [
        "# Packages need in the Deployment Stage\n",
        "\n",
        "import lab_utils\n",
        "import tensorflow as tf\n",
        "import pandas as pd\n",
        "import os\n",
        "import shutil\n",
        "import requests\n",
        "import json\n",
        "import sqlite3\n",
        "import numpy as np\n",
        "import matplotlib.pyplot as plt"
      ],
      "metadata": {
        "id": "G0u3QCr9OUiE"
      },
      "execution_count": 59,
      "outputs": []
    },
    {
      "cell_type": "markdown",
      "source": [
        "### 🚀 Deploying the Model in Production\n",
        "\n",
        "- **System Overview**\n",
        "  - The prototype model processes news articles in hourly batches on a cloud platform.\n",
        "  - A high-level system diagram (`network.png`) illustrates the setup.\n",
        "\n",
        "---\n",
        "\n",
        "### 🔧 Local Deployment Setup\n",
        "\n",
        "- **Deployment Framework**\n",
        "  - TensorFlow Serving is used for local model deployment.\n",
        "  - Models are stored in the `serving` folder within the workspace.\n",
        "\n",
        "- **Getting Started**\n",
        "  - TensorFlow Serving is pre-installed in the lab environment.\n",
        "  - For local setups outside the lab:\n",
        "    - Install TensorFlow Serving following [official instructions](https://www.tensorflow.org/tfx/serving/setup).\n",
        "    - Use `tensorflow-model-server` binary installed via APT or Docker container for serving.\n",
        "\n",
        "- **Commands**\n",
        "  - Docker and native TensorFlow Serving commands are provided (see collapsible sections above).\n",
        "  - Copy-paste commands into a new cell to start serving the model.\n",
        "\n",
        "- **Next Step**\n",
        "  - Perform sample predictions to verify the deployment.\n"
      ],
      "metadata": {
        "id": "jn8DD-Clmh8L"
      }
    },
    {
      "cell_type": "code",
      "source": [
        "SERVING_DIR = f'{os.getcwd()}/serving'\n",
        "os.environ[\"SERVING_DIR\"] = SERVING_DIR\n",
        "\n",
        "print(f'SERVING_DIR: {SERVING_DIR}')\n",
        "print(f'os.environ[\"SERVING_DIR\"]: {os.environ[\"SERVING_DIR\"]}')"
      ],
      "metadata": {
        "id": "QI0OozFkOUUm",
        "colab": {
          "base_uri": "https://localhost:8080/"
        },
        "outputId": "91950b18-5fce-41fb-ba19-4c4301fb30dc"
      },
      "execution_count": 60,
      "outputs": [
        {
          "output_type": "stream",
          "name": "stdout",
          "text": [
            "SERVING_DIR: /content/serving\n",
            "os.environ[\"SERVING_DIR\"]: /content/serving\n"
          ]
        }
      ]
    },
    {
      "cell_type": "markdown",
      "source": [
        "copy the model in E2 into the serving directory under a folder named 1."
      ],
      "metadata": {
        "id": "FVVOCcYxnnCF"
      }
    },
    {
      "cell_type": "code",
      "source": [
        "os.makedirs(f'{SERVING_DIR}/1', exist_ok=True)\n",
        "shutil.copytree('/content/drive/MyDrive/News_Filtering_Production/News_Filtering_Production/E2/model', f'{SERVING_DIR}/1', dirs_exist_ok=True)"
      ],
      "metadata": {
        "colab": {
          "base_uri": "https://localhost:8080/",
          "height": 35
        },
        "id": "JxG9f8Wpnn2u",
        "outputId": "1283c017-9165-49c7-a4b1-8aca4cc6e78b"
      },
      "execution_count": 62,
      "outputs": [
        {
          "output_type": "execute_result",
          "data": {
            "text/plain": [
              "'/content/serving/1'"
            ],
            "application/vnd.google.colaboratory.intrinsic+json": {
              "type": "string"
            }
          },
          "metadata": {},
          "execution_count": 62
        }
      ]
    },
    {
      "cell_type": "markdown",
      "source": [
        "run Tensorflow Serving in the background and it will detect the model available for serving."
      ],
      "metadata": {
        "id": "Url3Hl11oTZb"
      }
    },
    {
      "cell_type": "code",
      "source": [
        "%%bash --bg\n",
        "nohup tensorflow_model_server \\\n",
        "  --rest_api_port=8501 \\\n",
        "  --model_name=newsapp_model \\\n",
        "  --model_base_path=\"${SERVING_DIR}\" > ./serving/server.log 2>&1"
      ],
      "metadata": {
        "id": "4OjhCSoonfvS"
      },
      "execution_count": 63,
      "outputs": []
    },
    {
      "cell_type": "markdown",
      "source": [
        "### 🖥️ Model Server Testing\n",
        "\n",
        "- **Server Status**\n",
        "  - Model server is running and listening on port **8501**.\n",
        "\n",
        "- **Testing Prediction Endpoint**\n",
        "  - Send a test request with a dummy input array of shape `(1, 20)` representing a title.\n",
        "  - The response will return 8 values corresponding to the softmax output layer predictions.\n",
        "\n",
        "- **Usage**\n",
        "  - The test command can be run inside this notebook (with `!`) or directly in a Terminal:\n",
        "    - Open Terminal via `File -> New Launcher -> Other -> Terminal`.\n",
        "    - Run the command without the `!` to confirm external accessibility.\n",
        "\n",
        "- **Troubleshooting**\n",
        "  - If an error appears regarding \"expecting a string input\":\n",
        "    - Multiple models may exist in the `serving` directory from previous runs.\n",
        "    - Remove existing model folders by uncommenting the cleanup line in the Deploy section.\n",
        "    - Copy the correct model to the `serving` directory again before retrying."
      ],
      "metadata": {
        "id": "TpuV_0bFomme"
      }
    },
    {
      "cell_type": "code",
      "source": [
        "command = (\n",
        "    'curl -d \\'{\"instances\": [[1,1,1,1,1,1,1,1,1,1,1,1,1,1,1,1,1,1,1,1]]}\\' \\\\' +\n",
        "    '-X POST http://localhost:8501/v1/models/newsapp_model:predict'\n",
        ")\n",
        "\n",
        "os.system(command)"
      ],
      "metadata": {
        "colab": {
          "base_uri": "https://localhost:8080/"
        },
        "id": "4e9E9qtdnfpC",
        "outputId": "fb62fb99-624d-4a66-bed6-74d9a66697cc"
      },
      "execution_count": 64,
      "outputs": [
        {
          "output_type": "execute_result",
          "data": {
            "text/plain": [
              "1792"
            ]
          },
          "metadata": {},
          "execution_count": 64
        }
      ]
    },
    {
      "cell_type": "markdown",
      "source": [
        "### 🤖 Programmatic Requests to the Model Server\n",
        "\n",
        "- **Process**\n",
        "  - Load the title preprocessor to convert raw text strings into numeric arrays compatible with the model input.\n",
        "  - Send these processed inputs as requests to the model server.\n",
        "\n",
        "- **Potential Issue**\n",
        "  - The preprocessing step happens outside the serving environment.\n",
        "  - This can cause inconsistencies if the preprocessor changes or differs from what the deployed model expects.\n",
        "  - Also, it requires the client to have the preprocessing logic and artifacts, increasing complexity and maintenance overhead.\n",
        "\n",
        "- **Best Practice Suggestion**\n",
        "  - Integrate preprocessing into the deployed model pipeline or API service to ensure consistent input handling.\n"
      ],
      "metadata": {
        "id": "qK7bxDpzpOw2"
      }
    },
    {
      "cell_type": "code",
      "source": [
        "# Used by the team on their prototype\n",
        "MAX_LENGTH = 20\n",
        "VOCAB_SIZE = 10000\n",
        "\n",
        "# Instantiate a layer for text preprocessing\n",
        "title_preprocessor = tf.keras.layers.TextVectorization(max_tokens=VOCAB_SIZE, output_sequence_length=MAX_LENGTH)\n",
        "\n",
        "# Load the vocabulary file\n",
        "title_preprocessor.load_assets('/content/drive/MyDrive/News_Filtering_Production/News_Filtering_Production/E2/vocab')\n",
        "\n",
        "# Sample input\n",
        "sample_input = 'Sample title'\n",
        "\n",
        "# Preprocess the string\n",
        "sample_input_ds = title_preprocessor(sample_input)\n",
        "\n",
        "# Add a batch dimension\n",
        "sample_input_ds = tf.expand_dims(sample_input_ds, axis=0)\n",
        "\n",
        "# Compose the data\n",
        "data = json.dumps({\"instances\": sample_input_ds.numpy().tolist()})\n",
        "\n",
        "# Define the headers\n",
        "headers = {\"content-type\": \"application/json\"}\n",
        "\n",
        "# Send the request\n",
        "json_response = requests.post('http://localhost:8501/v1/models/newsapp_model:predict', data=data, headers=headers)\n",
        "\n",
        "# Get the predictions\n",
        "predictions = json.loads(json_response.text)['predictions']\n",
        "\n",
        "print(predictions)"
      ],
      "metadata": {
        "id": "NBhrgCaV_Y0H"
      },
      "execution_count": null,
      "outputs": []
    },
    {
      "cell_type": "markdown",
      "source": [
        "### 🔁 Ensuring Consistent Preprocessing During Serving\n",
        "\n",
        "- **Issue Identified**\n",
        "  - Preprocessing (e.g. vocabulary loading) occurs outside the model pipeline.\n",
        "  - There's a risk of accidentally loading the wrong vocabulary from another experiment (e.g., E3 instead of E2).\n",
        "  - This mismatch can cause the model to produce unreliable predictions despite being well-trained.\n",
        "\n",
        "- **Solution**\n",
        "  - Integrate the `title_preprocessor` directly into the model's input pipeline before exporting.\n",
        "  - This ensures:\n",
        "    - The correct vocabulary is always used.\n",
        "    - You can feed raw strings to the model at inference time.\n",
        "    - External clients don't need access to the preprocessing logic or files.\n",
        "\n",
        "- **Benefits**\n",
        "  - Reduces risk of human error.\n",
        "  - Simplifies deployment and inference pipeline.\n",
        "  - Improves robustness and reproducibility of predictions.\n"
      ],
      "metadata": {
        "id": "2ccH-wlSqiQL"
      }
    },
    {
      "cell_type": "markdown",
      "source": [
        "### 🧩 Preprocessing Integration for Deployment\n",
        "\n",
        "- **Best Practice**\n",
        "  - Attach the `title_preprocessor` **after** training, just before deployment.\n",
        "  - Reason: Attaching it during training can slow down performance, especially on GPU setups.\n",
        "\n",
        "- **Deployment-Ready Export**\n",
        "  - Use `model.export()` instead of `model.save()` for serving purposes.\n",
        "  - `model.export()` generates a lighter version optimized for TensorFlow Serving.\n",
        "\n",
        "- **Action Taken**\n",
        "  - The integrated model (with preprocessing attached) was exported to the `serving` directory under folder `2`.\n",
        "  - This version is now ready for deployment and inference with raw string inputs.\n",
        "\n",
        "- **Outcome**\n",
        "  - Ensures reliable predictions by embedding the preprocessing pipeline into the model itself.\n",
        "  - Simplifies serving architecture by reducing dependency on external preprocessing logic.\n"
      ],
      "metadata": {
        "id": "O9tb61sCsNbp"
      }
    },
    {
      "cell_type": "code",
      "source": [
        "!kill $(ps aux | grep 'tensorflow_model_server' | awk '{print $2}')"
      ],
      "metadata": {
        "colab": {
          "base_uri": "https://localhost:8080/"
        },
        "id": "v_THdzRQnfe3",
        "outputId": "f54377e2-1c45-48fb-ddb4-952ab821bb3d"
      },
      "execution_count": 75,
      "outputs": [
        {
          "output_type": "stream",
          "name": "stdout",
          "text": [
            "^C\n"
          ]
        }
      ]
    },
    {
      "cell_type": "code",
      "source": [
        "%%bash --bg\n",
        "nohup tensorflow_model_server \\\n",
        "  --rest_api_port=8501 \\\n",
        "  --model_config_file=\"${SERVING_DIR}/models.config\" \\\n",
        "  --model_config_file_poll_wait_seconds=10 \\\n",
        "  --allow_version_labels_for_unavailable_models=true \\\n",
        "  --model_base_path=\"${SERVING_DIR}\" > ./serving/server.log 2>&1"
      ],
      "metadata": {
        "id": "4axPjRdQne_0"
      },
      "execution_count": 76,
      "outputs": []
    },
    {
      "cell_type": "markdown",
      "source": [
        "And to the 2nd model as well that accepts string inputs:"
      ],
      "metadata": {
        "id": "r0RAzroY_kPw"
      }
    },
    {
      "cell_type": "code",
      "source": [
        "data = json.dumps({\"instances\": [[1,1,1,1,1,1,1,1,1,1,1,1,1,1,1,1,1,1,1,1]]})\n",
        "\n",
        "headers = {\"content-type\": \"application/json\"}\n",
        "json_response = requests.post('http://localhost:8501/v1/models/newsapp_model/labels/deprecated:predict', data=data, headers=headers)\n",
        "predictions = json.loads(json_response.text)['predictions']\n",
        "\n",
        "print(predictions)"
      ],
      "metadata": {
        "id": "kvrwR26W_pJD"
      },
      "execution_count": null,
      "outputs": []
    },
    {
      "cell_type": "code",
      "source": [
        "data = json.dumps({\"instances\": [\"sample title 1\", \"sample title 2\"]})\n",
        "\n",
        "headers = {\"content-type\": \"application/json\"}\n",
        "json_response = requests.post('http://localhost:8501/v1/models/newsapp_model/labels/stable:predict', data=data, headers=headers)\n",
        "predictions = json.loads(json_response.text)['predictions']\n",
        "\n",
        "print(predictions)"
      ],
      "metadata": {
        "id": "mjGxlw_O_rPO"
      },
      "execution_count": null,
      "outputs": []
    },
    {
      "cell_type": "code",
      "source": [
        "#to test model by deploying it on canary through flask api"
      ],
      "metadata": {
        "id": "iY9cZHoL_rIH"
      },
      "execution_count": null,
      "outputs": []
    },
    {
      "cell_type": "markdown",
      "source": [
        "### ⚙️ Degrees of Automation in ML Deployment\n",
        "\n",
        "Rather than deploying the model for full automation, it's often more practical to adopt a **partial automation** approach—especially when model performance isn't yet ideal.\n",
        "\n",
        "#### 🧠 Human-in-the-Loop Strategy\n",
        "\n",
        "- **Observation from Error Analysis:**\n",
        "  - If the model's top class prediction has a **confidence score ≥ 60%**, it is typically correct.\n",
        "  - If **< 60%**, it's less reliable and should be **reviewed manually**.\n",
        "\n",
        "- **Proposed Automation Flow:**\n",
        "  1. Predict topic for each article.\n",
        "  2. Check the probability of the top prediction.\n",
        "     - **If ≥ 60%** → Accept prediction automatically.\n",
        "     - **If < 60%** → Flag for human review.\n",
        "\n",
        "- **Proof-of-Concept:**\n",
        "  - Apply this logic to **100 rows** from the `dev_df` dataset.\n",
        "  - Count how many predictions are auto-accepted vs. sent to human reviewers.\n",
        "\n",
        "#### ✅ Benefits\n",
        "\n",
        "- Builds trust with stakeholders before full automation.\n",
        "- Improves quality while gradually increasing automation confidence.\n",
        "- Allows model refinement over time with real-world feedback.\n",
        "\n",
        "> ⚠️ Tip: Always log flagged items for auditing and possible retraining to improve future accuracy.\n"
      ],
      "metadata": {
        "id": "y_xleTtpAOO7"
      }
    },
    {
      "cell_type": "code",
      "source": [
        "# working folder for the experiment\n",
        "BASE_DIR = './E2'\n",
        "\n",
        "# get the subdirectories that contain the experiment files\n",
        "data_dir, _, vocab_dir = lab_utils.set_experiment_dirs(BASE_DIR)\n",
        "\n",
        "# Load the dev set\n",
        "dev_df = pd.read_csv(f'{data_dir}/dev_data.csv')\n",
        "\n",
        "# Create a lookup list for the labels\n",
        "topic_lookup = tf.keras.layers.StringLookup(vocabulary=f'{vocab_dir}/labels.txt', num_oov_indices=0)\n",
        "\n",
        "# Get 100 rows from the dev set and prepare the titles as a list\n",
        "title_df = dev_df['title'][:100].reset_index(drop=True)\n",
        "\n",
        "# Convert to a list\n",
        "dev_np = title_df.to_numpy().tolist()\n",
        "\n",
        "# Convert to a JSON object\n",
        "data = json.dumps({\"instances\": dev_np})\n",
        "\n",
        "# Set the header\n",
        "headers = {\"content-type\": \"application/json\"}\n",
        "\n",
        "# Send to the deployed model\n",
        "json_response = requests.post('http://localhost:8501/v1/models/newsapp_model/labels/stable:predict', data=data, headers=headers)\n",
        "\n",
        "# Get the predictions\n",
        "predictions = json.loads(json_response.text)['predictions']"
      ],
      "metadata": {
        "id": "sDLajQqC_rBK"
      },
      "execution_count": null,
      "outputs": []
    },
    {
      "cell_type": "markdown",
      "source": [
        "### Partial Automation with Confidence Threshold\n",
        "\n",
        "To optimize classification reliability, a filtering mechanism was implemented:\n",
        "\n",
        "- **Confidence Threshold**:  \n",
        "  - If the model's top prediction exceeds **60% probability**, the article is:\n",
        "    - Automatically classified  \n",
        "    - Forwarded directly to the application's frontend  \n",
        "\n",
        "  - If the prediction falls **below 60%**, the article is:\n",
        "    - Flagged for manual review  \n",
        "    - Handled by a human-in-the-loop process\n"
      ],
      "metadata": {
        "id": "X-nek2_GAUyK"
      }
    },
    {
      "cell_type": "code",
      "source": [
        "# Preview the results\n",
        "\n",
        "# Show the predictions as percentages\n",
        "pd.options.display.float_format = '{:.2%}'.format\n",
        "\n",
        "# Format the results as a dataframe\n",
        "pred_df = pd.DataFrame(predictions, columns=topic_lookup.get_vocabulary())\n",
        "pred_df = pd.concat([title_df, pred_df], axis=1)\n",
        "pred_df"
      ],
      "metadata": {
        "id": "LZOyQ-rsAUKP"
      },
      "execution_count": null,
      "outputs": []
    },
    {
      "cell_type": "code",
      "source": [
        "# Threshold to meet for automation\n",
        "THRESHOLD = 0.6\n",
        "\n",
        "# List for manual checking\n",
        "below_threshold = []\n",
        "\n",
        "# Collect rows that don't meet the threshold\n",
        "for i, prediction in enumerate(predictions):\n",
        "    if max(prediction) < THRESHOLD:\n",
        "        prediction = prediction.copy()\n",
        "        prediction.insert(0, dev_np[i])\n",
        "        below_threshold.append(prediction)\n",
        "\n",
        "# Preview the results. These will be classified manually.\n",
        "columns = topic_lookup.get_vocabulary()\n",
        "columns.insert(0, 'title')\n",
        "pd.DataFrame(below_threshold, columns=columns)"
      ],
      "metadata": {
        "id": "1qhfmv0RAUdS"
      },
      "execution_count": null,
      "outputs": []
    },
    {
      "cell_type": "code",
      "source": [
        "#examine data and add more filters for manual checking thereby rechecking and making predictions better overtime"
      ],
      "metadata": {
        "id": "b6Q9UA0iA_Cg"
      },
      "execution_count": null,
      "outputs": []
    },
    {
      "cell_type": "markdown",
      "source": [
        "### Monitoring and Maintaining the ML System\n",
        "\n",
        "Deployed ML systems require continuous monitoring to ensure long-term reliability. Over time, **model performance degrades** due to changes in data, necessitating maintenance strategies.\n",
        "\n",
        "---\n",
        "\n",
        "### Types of Data Drift\n",
        "\n",
        "- **Concept Drift**  \n",
        "  Occurs when the relationship between input and output shifts.  \n",
        "  *Example*: An athlete retires and becomes a celebrity, but the model continues to label their articles as SPORTS.\n",
        "\n",
        "- **Data Drift**  \n",
        "  Occurs when the distribution of input data changes.  \n",
        "  *Example*: A new celebrity emerges post-training, leading to poor predictions due to unseen vocabulary.\n",
        "\n",
        "---\n",
        "\n",
        "### Establishing Metrics and Alarms\n",
        "\n",
        "To detect performance issues early, multiple metrics should be tracked and thresholds defined. Alarms can then be triggered for investigation.\n",
        "\n",
        "#### 1. Software Metrics\n",
        "- Track system capacity and performance:\n",
        "  - Available memory\n",
        "  - CPU/GPU utilization\n",
        "  - Latency\n",
        "  - Throughput\n",
        "  - Server load  \n",
        "- Helps determine when to **scale resources**.\n",
        "\n",
        "#### 2. Input Metrics\n",
        "- Analyze incoming data characteristics:\n",
        "  - Average title length\n",
        "  - Count of unknown or out-of-vocabulary tokens\n",
        "  - Input request frequency per data source  \n",
        "- Useful for spotting **shifts in data distribution**.\n",
        "\n",
        "#### 3. Output Metrics\n",
        "- Monitor prediction results:\n",
        "  - Distribution across categories\n",
        "  - Ratio of automated vs. manual classifications\n",
        "  - Confidence scores of predictions  \n",
        "- Highlights potential **model bias or degradation**.\n",
        "\n",
        "---\n",
        "\n",
        "### Example: Monitoring Unknown Tokens\n",
        "\n",
        "A high number of unknown (OOV) tokens in titles may signal **vocabulary insufficiency**. This is monitored by:\n",
        "\n",
        "- Collecting processed input data from the system database\n",
        "- Counting and plotting the occurrence of unknown tokens\n",
        "- Using trends to decide whether vocabulary updates are required\n"
      ],
      "metadata": {
        "id": "iqhlMgTLCL8n"
      }
    },
    {
      "cell_type": "code",
      "source": [
        "# Connect to the database\n",
        "con = sqlite3.connect(\"news_articles.db\")\n",
        "cur = con.cursor()\n",
        "\n",
        "# Preview some entries\n",
        "for row in cur.execute(\"SELECT id,title FROM news_articles WHERE id < 5\"):\n",
        "    print(row)"
      ],
      "metadata": {
        "id": "P1N2Er2LBRy1"
      },
      "execution_count": null,
      "outputs": []
    },
    {
      "cell_type": "markdown",
      "source": [
        "You will then load the title preprocessor in Experiment 2 so you can transform the string inputs into integer sequences."
      ],
      "metadata": {
        "id": "zbfC9ZoJCkV7"
      }
    },
    {
      "cell_type": "code",
      "source": [
        "VOCAB_SIZE=10000\n",
        "MAX_LENGTH=20\n",
        "\n",
        "# working folder for the experiment\n",
        "BASE_DIR = './E1'\n",
        "\n",
        "# get the subdirectories that contain the experiment files\n",
        "_, model_dir, vocab_dir = lab_utils.set_experiment_dirs(BASE_DIR)\n",
        "\n",
        "# Load the model\n",
        "model = tf.keras.models.load_model(model_dir)\n",
        "\n",
        "# Instantiate a layer for text preprocessing\n",
        "title_preprocessor = tf.keras.layers.TextVectorization(max_tokens=VOCAB_SIZE, output_sequence_length=MAX_LENGTH)\n",
        "\n",
        "# Load the vocabulary file\n",
        "title_preprocessor.load_assets(vocab_dir)"
      ],
      "metadata": {
        "id": "yeS-apYyCgfi"
      },
      "execution_count": null,
      "outputs": []
    },
    {
      "cell_type": "markdown",
      "source": [
        "For each integer sequence, you want to count the number of 1's because that represents an out-of-vocabulary word."
      ],
      "metadata": {
        "id": "hHwyw3igCnt1"
      }
    },
    {
      "cell_type": "code",
      "source": [
        "# Initialize list containing the number of `1`'s per title\n",
        "unk_counts = []\n",
        "\n",
        "# Iterate over the titles in the database\n",
        "for row in cur.execute(\"SELECT title FROM news_articles\"):\n",
        "\n",
        "    # Convert the title to an integer sequence\n",
        "    sequence = title_preprocessor(row[0])\n",
        "\n",
        "    # Count the number of `1`\n",
        "    unk_count = np.count_nonzero(sequence == 1)\n",
        "\n",
        "    # Append to the list\n",
        "    unk_counts.append(unk_count)"
      ],
      "metadata": {
        "id": "Bd7rqtNyCoUF"
      },
      "execution_count": null,
      "outputs": []
    },
    {
      "cell_type": "markdown",
      "source": [
        "Now plot the results."
      ],
      "metadata": {
        "id": "L0_hE9IxCq6c"
      }
    },
    {
      "cell_type": "markdown",
      "source": [
        "Notice that there is a spike in the later entries. we can inspect these rows and see what might be the problem."
      ],
      "metadata": {
        "id": "7_JOjYdkCvVi"
      }
    },
    {
      "cell_type": "code",
      "source": [
        "# print rows after id=100\n",
        "for row in cur.execute(\"SELECT id,title FROM news_articles WHERE ID > 100\"):\n",
        "    print(row)"
      ],
      "metadata": {
        "id": "p6zJU8yqCs5E"
      },
      "execution_count": null,
      "outputs": []
    },
    {
      "cell_type": "markdown",
      "source": [
        "### Input Filtering\n",
        "\n",
        "The system encountered **input errors** due to non-English articles. Since the model was trained exclusively on English data, it failed to recognize the words, leading to unreliable predictions.  \n",
        "→ Actionable insight: **Identify and filter non-English sources** to prevent irrelevant entries from affecting the application.\n",
        "\n",
        "---\n",
        "\n",
        "### Project Wrap-Up\n",
        "\n",
        "This project implemented the **entire Machine Learning Lifecycle** on a real-world problem—from scoping and data preparation to modeling, deployment, and monitoring. Challenges such as data imbalance, labeling ambiguity, and production constraints were effectively addressed.\n",
        "\n",
        "---\n",
        "\n",
        "### Key Insights & Recommendations\n",
        "\n",
        "#### ✅ Label Ambiguity\n",
        "- **Improvement**: Define stricter labeling guidelines and use multiple annotators with consensus checking to reduce inconsistency.\n",
        "\n",
        "#### ✅ Model Accuracy\n",
        "- **Best Accuracy Achieved**: _[insert highest accuracy observed]_  \n",
        "- **Assessment**: If accuracy ≥ 60% with confidence, partial automation can be adopted (with human-in-the-loop for low-confidence predictions).\n",
        "\n",
        "#### ✅ Next Steps\n",
        "- **Resources Required**:  \n",
        "  - Access to additional labeled English data  \n",
        "  - Integration of text augmentation techniques  \n",
        "  - Model retraining and periodic evaluation  \n",
        "- **Timeline**: _[insert estimated timeline, e.g., 2–4 weeks for next iteration]_\n",
        "\n",
        "#### ✅ App Modifications\n",
        "- Enable articles to belong to **multiple categories**, using multi-label classification.\n",
        "- Incorporate **language detection** and filter non-supported entries.\n",
        "- Improve UI feedback by showing model confidence to end-users.\n",
        "\n",
        "---\n",
        "\n",
        "### Final Note\n",
        "\n",
        "This system is now ready for partial deployment with proper monitoring. Future iterations should focus on expanding data diversity, improving classification accuracy, and adapting to changes in input data.\n"
      ],
      "metadata": {
        "id": "k8wMXE3cHzYQ"
      }
    }
  ]
}